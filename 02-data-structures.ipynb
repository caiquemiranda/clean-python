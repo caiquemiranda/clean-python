{
 "cells": [
  {
   "attachments": {},
   "cell_type": "markdown",
   "metadata": {},
   "source": [
    "### Estruturas de dados\n",
    "---"
   ]
  },
  {
   "attachments": {},
   "cell_type": "markdown",
   "metadata": {},
   "source": [
    "As estruturas de dados são os blocos de construção básicos de qualquer\n",
    "linguagem de programação. Ter uma boa compreensão das estruturas de\n",
    "dados economiza muito tempo e usá-las pode tornar seu código sustentável.\n",
    "O Python tem várias maneiras de armazenar dados usando estruturas de\n",
    "dados e ter um bom entendimento de quando usar qual estrutura de dados faz\n",
    "muita diferença em termos de memória, facilidade de uso e desempenho do\n",
    "código."
   ]
  },
  {
   "attachments": {},
   "cell_type": "markdown",
   "metadata": {},
   "source": [
    "Neste capítulo, primeiro examinarei algumas estruturas de dados comuns e explique quando usá-los em seu código. Também abordarei as\n",
    "vantagens de usar essas estruturas de dados em situações específicas. Em\n",
    "seguida, você considerará em detalhes a importância do dicionário como uma\n",
    "estrutura de dados em Python."
   ]
  },
  {
   "attachments": {},
   "cell_type": "markdown",
   "metadata": {},
   "source": [
    "#### Estruturas de dados comuns\n",
    "---"
   ]
  },
  {
   "attachments": {},
   "cell_type": "markdown",
   "metadata": {},
   "source": [
    "Python tem várias estruturas de dados primários. Nesta seção, você verá as\n",
    "estruturas de dados mais comuns. Ter um bom entendimento dos conceitos de\n",
    "estrutura de dados é importante para você escrever um código eficiente. Usá-los\n",
    "de forma inteligente torna seu código mais eficiente e com menos bugs."
   ]
  },
  {
   "attachments": {},
   "cell_type": "markdown",
   "metadata": {},
   "source": [
    "##### Use conjuntos para velocidade\n",
    "---"
   ]
  },
  {
   "attachments": {},
   "cell_type": "markdown",
   "metadata": {},
   "source": [
    "Conjuntos são estruturas de dados fundamentais em Python. Eles também são um dos\n",
    "mais negligenciados. O principal benefício do uso de conjuntos é a velocidade. Então, vamos\n",
    "ver algumas das outras características dos conjuntos:\n",
    "\n",
    "- Não permitem duplicatas.\n",
    "- Você não pode acessar os elementos do conjunto usando um índice.\n",
    "- Conjuntos podem acessar elementos em tempo O(1) desde que usem hashtables.\n",
    "- Os conjuntos não permitem algumas operações comuns que as listas fazem, como fatias e pesquisas.\n",
    "- Os conjuntos podem ordenar os elementos no momento da inserção."
   ]
  },
  {
   "attachments": {},
   "cell_type": "markdown",
   "metadata": {},
   "source": [
    "Considerando essas restrições, sempre que você não precisar dessas\n",
    "funcionalidades comuns em sua estrutura de dados, prefira usar um conjunto, o que tornará\n",
    "seu código muito mais rápido ao acessar os dados. A Listagem 2-1 mostra um exemplo de uso\n",
    "de um conjunto."
   ]
  },
  {
   "cell_type": "code",
   "execution_count": null,
   "metadata": {},
   "outputs": [],
   "source": [
    "# Definir uso para acessar dados\n",
    "dados = {\"primeiro\", \"segundo\", \"terceiro\", \"quarto\", \"quinto\"}\n",
    "\n",
    "if \"quarto\" in dados:\n",
    "    print('Encontrei os dados.')"
   ]
  },
  {
   "attachments": {},
   "cell_type": "markdown",
   "metadata": {},
   "source": [
    "Os conjuntos são implementados usando hashtables, portanto, sempre que um novo\n",
    "item é adicionado a um conjunto, o posicionamento do item na memória é determinado\n",
    "pelo hash do objeto. Essa é a razão pela qual os hashes têm um bom desempenho ao\n",
    "acessar os dados. Se você tiver milhares de itens e precisar acessar itens desses elementos\n",
    "com frequência, é muito mais rápido usar conjuntos para acessar itens em vez de usar listas."
   ]
  },
  {
   "cell_type": "code",
   "execution_count": 1,
   "metadata": {},
   "outputs": [
    {
     "name": "stdout",
     "output_type": "stream",
     "text": [
      "{'quarto', 'quinto', 'primeiro', 'terceiro', 'segundo'}\n"
     ]
    }
   ],
   "source": [
    "# Definir uso para remover duplicatas\n",
    "\n",
    "dados = [\"primeiro\", \"segundo\", \"terceiro\", \"quarto\", \"quarto\", \"quinto\"]\n",
    "\n",
    "sem_dados_duplicados = set(dados) \n",
    "print(sem_dados_duplicados)"
   ]
  },
  {
   "attachments": {},
   "cell_type": "markdown",
   "metadata": {},
   "source": [
    "Conjuntos também são usados como chaves para dicionários, e você pode usar conjuntos como chaves para outras estruturas de dados, como listas."
   ]
  },
  {
   "attachments": {},
   "cell_type": "markdown",
   "metadata": {},
   "source": [
    "onde você tem um dicionário de\n",
    "um banco de dados com um valor de ID como a chave e o nome e o sobrenome dos\n",
    "usuários nos valores."
   ]
  },
  {
   "cell_type": "markdown",
   "metadata": {},
   "source": []
  },
  {
   "cell_type": "markdown",
   "metadata": {},
   "source": []
  },
  {
   "cell_type": "markdown",
   "metadata": {},
   "source": []
  },
  {
   "cell_type": "markdown",
   "metadata": {},
   "source": []
  },
  {
   "cell_type": "markdown",
   "metadata": {},
   "source": []
  },
  {
   "cell_type": "markdown",
   "metadata": {},
   "source": []
  },
  {
   "cell_type": "markdown",
   "metadata": {},
   "source": []
  },
  {
   "cell_type": "markdown",
   "metadata": {},
   "source": []
  },
  {
   "cell_type": "markdown",
   "metadata": {},
   "source": []
  },
  {
   "cell_type": "markdown",
   "metadata": {},
   "source": []
  },
  {
   "cell_type": "markdown",
   "metadata": {},
   "source": []
  },
  {
   "cell_type": "markdown",
   "metadata": {},
   "source": []
  },
  {
   "cell_type": "markdown",
   "metadata": {},
   "source": []
  },
  {
   "cell_type": "markdown",
   "metadata": {},
   "source": []
  },
  {
   "cell_type": "markdown",
   "metadata": {},
   "source": []
  },
  {
   "cell_type": "markdown",
   "metadata": {},
   "source": []
  },
  {
   "cell_type": "markdown",
   "metadata": {},
   "source": []
  },
  {
   "cell_type": "markdown",
   "metadata": {},
   "source": []
  },
  {
   "cell_type": "markdown",
   "metadata": {},
   "source": []
  },
  {
   "cell_type": "markdown",
   "metadata": {},
   "source": []
  },
  {
   "cell_type": "markdown",
   "metadata": {},
   "source": []
  },
  {
   "cell_type": "markdown",
   "metadata": {},
   "source": []
  },
  {
   "cell_type": "markdown",
   "metadata": {},
   "source": []
  },
  {
   "cell_type": "markdown",
   "metadata": {},
   "source": [
    "### Common Data Structures"
   ]
  },
  {
   "cell_type": "markdown",
   "metadata": {},
   "source": [
    "#### Use sets for speed"
   ]
  },
  {
   "cell_type": "code",
   "execution_count": 3,
   "metadata": {},
   "outputs": [
    {
     "name": "stdout",
     "output_type": "stream",
     "text": [
      "Found the Data\n"
     ]
    }
   ],
   "source": [
    "# Listing 2-1. Set Usage for Accessing Data\n",
    "\n",
    "data = {\"first\", \"second\", \"third\", \"fourth\", \"fifth\"}\n",
    "\n",
    "if \"fourth\" in data:\n",
    "    print(\"Found the Data\")"
   ]
  },
  {
   "cell_type": "code",
   "execution_count": 5,
   "metadata": {},
   "outputs": [
    {
     "name": "stdout",
     "output_type": "stream",
     "text": [
      "{'first', 'second', 'fifth', 'third', 'fourth'}\n"
     ]
    }
   ],
   "source": [
    "# Listing 2-2. Set Usage for Removing Duplicates\n",
    "\n",
    "data = [\"first\", \"second\", \"third\", \"fourth\", \"fourth\", \"fifth\"]\n",
    "\n",
    "no_duplicate_data = set(data)\n",
    "print(no_duplicate_data)"
   ]
  },
  {
   "cell_type": "code",
   "execution_count": 7,
   "metadata": {},
   "outputs": [
    {
     "name": "stdout",
     "output_type": "stream",
     "text": [
      "['LarryPage', 'JohnFreedom']\n"
     ]
    }
   ],
   "source": [
    "# Listing 2-3. Sets as First and Last Names\n",
    "\n",
    "users = {'1267':{'first': 'Larry', 'last':'Page'},\n",
    "         '2343': {'first': 'John', 'last': 'Freedom'}}\n",
    "\n",
    "ids = set(users.keys())\n",
    "\n",
    "full_names = []\n",
    "\n",
    "for user in users.values():\n",
    "    full_names.append(user[\"first\"] + \"\" + user[\"last\"])\n",
    "\n",
    "print(full_names)"
   ]
  },
  {
   "cell_type": "markdown",
   "metadata": {},
   "source": [
    "Note: Sets are useful data structures. Consider using them when\n",
    "you need to frequently access items from a list of numbers and set\n",
    "the access to the items in O(1) time. I recommend thinking about sets\n",
    "before considering using lists or tuples the next time you need a data\n",
    "structure."
   ]
  },
  {
   "cell_type": "markdown",
   "metadata": {},
   "source": [
    "#### Use namedtuple for Returning and Accessing Data"
   ]
  },
  {
   "cell_type": "code",
   "execution_count": 8,
   "metadata": {},
   "outputs": [
    {
     "data": {
      "text/plain": [
       "5"
      ]
     },
     "execution_count": 8,
     "metadata": {},
     "output_type": "execute_result"
    }
   ],
   "source": [
    "# Listing 2-4. Immutable Class\n",
    "\n",
    "class Point:\n",
    "    def __init__(self, x, y, z):\n",
    "        self.x = x\n",
    "        self.y = y\n",
    "        self.z = z\n",
    "\n",
    "point = Point(3, 4, 5)\n",
    "point.x\n",
    "point.y\n",
    "point.z"
   ]
  },
  {
   "cell_type": "code",
   "execution_count": null,
   "metadata": {},
   "outputs": [],
   "source": [
    "# Listing 2-5. namedtuple Implementation\n",
    "\n",
    "Point = namedtuple(\"Point\", [\"x\", \"y\", \"z\"])\n",
    "point = Point(x=3, y=4, z=5)\n",
    "\n",
    "point.x\n",
    "point.y\n",
    "point.z"
   ]
  },
  {
   "cell_type": "code",
   "execution_count": null,
   "metadata": {},
   "outputs": [],
   "source": [
    "# Listing 2-6. Return a Value from a Function as a Tuple\n",
    "\n",
    "def get_user_info(user_obj):\n",
    "    \n",
    "    user = get_data_from_db(user_obj)\n",
    "    first_name = user[\"first_name\"]\n",
    "    last_name = user[\"last_name\"]\n",
    "    age = user[\"age\"]\n",
    "    return (first_name, last_name, age)\n",
    "\n",
    "def get_full_name(first_name, last_name):\n",
    "    return first_name + last_name\n",
    "\n",
    "first_name, last_name, age = get_user_info(user_obj)\n",
    "full_name = get_full_name(first_name, last_name)"
   ]
  },
  {
   "cell_type": "code",
   "execution_count": null,
   "metadata": {},
   "outputs": [],
   "source": []
  },
  {
   "cell_type": "markdown",
   "metadata": {},
   "source": [
    "#### Understanding str, Unicode, and byte"
   ]
  },
  {
   "cell_type": "markdown",
   "metadata": {},
   "source": [
    "#### Use Lists Carefully and Prefer Generators"
   ]
  },
  {
   "cell_type": "markdown",
   "metadata": {},
   "source": [
    "#### Use zip to Process a List"
   ]
  },
  {
   "cell_type": "markdown",
   "metadata": {},
   "source": [
    "#### Take Advantage of Python’s Built-in Functions"
   ]
  },
  {
   "cell_type": "code",
   "execution_count": null,
   "metadata": {},
   "outputs": [],
   "source": [
    "# Listing 2-7. Return a Value from a Function as a Tuple\n",
    "\n",
    "def get_user_info(user_obj):\n",
    "\n",
    "    user = get_data_from_db(user_obj)\n",
    "    \n",
    "    UserInfo = namedtuple(\"UserInfo\", [\"first_name\", \n",
    "                                       \"last_name\", \n",
    "                                       \"age\"])\n",
    "    \n",
    "    user_info = UserInfo(first_name=user[\"first_name\"],\n",
    "                         last_name=user[\"last_name\"],\n",
    "                         age=user[\"age\"])\n",
    "    \n",
    "    return user_info\n",
    "\n",
    "def get_full_name(user_info):\n",
    "\n",
    "    return user_info.first_name + user_info.last_name\n",
    "\n",
    "user_info = get_user_info(user_obj)\n",
    "full_name = get_full_name(user_info)\n"
   ]
  },
  {
   "cell_type": "markdown",
   "metadata": {},
   "source": [
    "Note: You should use namedtuple instead of a tuple wherever\n",
    "you think object notation will make your code more Pythonic and\n",
    "readable. I usually consider them when I have multiple values to pass\n",
    "around with some kind of context; in these cases, namedtuple can\n",
    "fit the bill because it makes code much more readable."
   ]
  },
  {
   "cell_type": "code",
   "execution_count": 10,
   "metadata": {},
   "outputs": [
    {
     "name": "stdout",
     "output_type": "stream",
     "text": [
      "<class 'str'>\n",
      "<class 'str'>\n"
     ]
    }
   ],
   "source": [
    "# Listing 2-8. Type str for Different Values\n",
    "\n",
    "p = \"Hello\"\n",
    "print(type(p))\n",
    "\n",
    "t = \"6\"\n",
    "print(type(t))"
   ]
  },
  {
   "cell_type": "code",
   "execution_count": null,
   "metadata": {},
   "outputs": [],
   "source": [
    "# Listing 2-9. Using a List of Return Prime Numbers\n",
    "\n",
    "def get_prime_numbers(lower, higher):\n",
    "    primes = []\n",
    "    \n",
    "    for num in range(lower, higher + 1):\n",
    "        \n",
    "        for prime in range(2, num + 1):\n",
    "            is_prime = True\n",
    "        \n",
    "            for item in range(2, int(num ** 0.5) + 1):\n",
    "                if num % item == 0:\n",
    "                    is_prime = False\n",
    "                    break\n",
    "        if is_prime:\n",
    "            primes.append(num)\n",
    "\n",
    "print(get_prime_numbers(30, 30000))\n",
    "                "
   ]
  },
  {
   "cell_type": "code",
   "execution_count": null,
   "metadata": {},
   "outputs": [],
   "source": [
    "# Listing 2-10. Using Generators for Prime Numbers\n",
    "\n",
    "def is_prime(num):\n",
    "    for item in range(2, int(math.sqrt(num)) + 1):\n",
    "        if num % item == 0:\n",
    "            prime = False\n",
    "    return prime\n",
    "\n",
    "def get_prime_numbers(lower, higher):\n",
    "    for possible_prime in range(lower, higher):\n",
    "        if is_prime(possible_prime):\n",
    "            yield possible_prime\n",
    "        yield False\n",
    "        \n",
    "for prime in get_prime_numbers(lower, higher):\n",
    "    if prime:\n",
    "        print(prime)"
   ]
  },
  {
   "cell_type": "code",
   "execution_count": null,
   "metadata": {},
   "outputs": [],
   "source": [
    "# Listing 2-11. Access a Database and Store the Result in a List as a Chunk\n",
    "\n",
    "def get_all_users_age(total_users=1000):\n",
    "    \n",
    "    age = []\n",
    "    \n",
    "    for id in total_users:\n",
    "        user_obj = access_db_to_get_users_by_id(id)\n",
    "        age.append([user.name, user.age])\n",
    "    \n",
    "    return age\n",
    "\n",
    "total_users = 1000000000\n",
    "\n",
    "for user_info in range(total_users):\n",
    "    \n",
    "    info = get_all_users_age()\n",
    "    for user in info:\n",
    "        print(user)"
   ]
  },
  {
   "cell_type": "code",
   "execution_count": null,
   "metadata": {},
   "outputs": [],
   "source": [
    "# Listing 2-12. Using an Iterator Approach\n",
    "\n",
    "def get_all_users_age():\n",
    "    all_users = 1000000000\n",
    "\n",
    "    for id in all_users:\n",
    "        user_obj = access_db_to_get_users_by_id(id)\n",
    "        yield user.name, user.age\n",
    "\n",
    "for user_name, user_age in get_all_users_age():\n",
    "    print(user_name, user_age)"
   ]
  },
  {
   "cell_type": "code",
   "execution_count": null,
   "metadata": {},
   "outputs": [],
   "source": [
    "# Listing 2-13. Combine a List\n",
    "\n",
    "def get_user_salary_info():\n",
    "    \n",
    "    users = get_users_name_from_db()\n",
    "    # [\"Abe\", \"Larry\", \"Adams\", \"John\", \"Sumit\", \"Adward\"]\n",
    "\n",
    "    users_salary = get_users_salary_from_db()\n",
    "    # [\"2M\", \"1M\", \"60K\", \"30K\", \"80K\", \"100K\"]\n",
    "\n",
    "    users_salary = []\n",
    "\n",
    "    for index in len(users):\n",
    "        \n",
    "        users_salary.append([users[index], users_salary[index]])\n",
    "        return users_salary"
   ]
  },
  {
   "cell_type": "code",
   "execution_count": null,
   "metadata": {},
   "outputs": [],
   "source": [
    "# Listing 2-14. Using zip\n",
    "def get_user_salary_info():\n",
    "    \n",
    "    users = get_users_name_from_db()\n",
    "    # [\"Abe\", \"Larry\", \"Adams\", \"John\", \"Sumit\", \"Adward\"]\n",
    "\n",
    "    users_salary = get_users_salary_from_db()\n",
    "    # [\"2M\", \"1M\", \"60K\", \"30K\", \"80K\", \"100K\"]\n",
    "    \n",
    "    users_salary = []\n",
    "    \n",
    "    for usr, slr in zip(users, users_salary):\n",
    "        users_salary.append(usr, slr)\n",
    "    \n",
    "    return users_salary"
   ]
  },
  {
   "cell_type": "code",
   "execution_count": null,
   "metadata": {},
   "outputs": [],
   "source": [
    "# Listing 2-15. Using __future__\n",
    "\n",
    "import __future__ import division"
   ]
  },
  {
   "cell_type": "markdown",
   "metadata": {},
   "source": [
    "Note: Python has rich libraries that solve a lot of problems for you.\n",
    "Getting to know them is the first step to figuring out what they can\n",
    "do for you. Familiarizing yourself with the built-in Python libraries will\n",
    "help you in the long run."
   ]
  },
  {
   "cell_type": "markdown",
   "metadata": {},
   "source": [
    "### Take Advantage of Dictionary"
   ]
  },
  {
   "cell_type": "markdown",
   "metadata": {},
   "source": [
    "#### When to Use a Dictionary vs. Other Data Structures"
   ]
  },
  {
   "cell_type": "markdown",
   "metadata": {},
   "source": [
    "#### Collections"
   ]
  },
  {
   "cell_type": "markdown",
   "metadata": {},
   "source": [
    "#### Ordered Dictionary vs. Default Dictionary vs. Normal Dictionary"
   ]
  },
  {
   "cell_type": "code",
   "execution_count": null,
   "metadata": {},
   "outputs": [],
   "source": []
  },
  {
   "cell_type": "markdown",
   "metadata": {},
   "source": [
    "#### Swith Statement Using Dictionary"
   ]
  },
  {
   "cell_type": "markdown",
   "metadata": {},
   "source": [
    "#### Pretty Printing a Dictionary"
   ]
  },
  {
   "cell_type": "markdown",
   "metadata": {},
   "source": [
    "### End."
   ]
  }
 ],
 "metadata": {
  "kernelspec": {
   "display_name": "Python 3.10.5 64-bit",
   "language": "python",
   "name": "python3"
  },
  "language_info": {
   "codemirror_mode": {
    "name": "ipython",
    "version": 3
   },
   "file_extension": ".py",
   "mimetype": "text/x-python",
   "name": "python",
   "nbconvert_exporter": "python",
   "pygments_lexer": "ipython3",
   "version": "3.10.5"
  },
  "orig_nbformat": 4,
  "vscode": {
   "interpreter": {
    "hash": "74af3d2f25f1e46ebd2903d59225d79e4675ec224d56c01fc30cd168c2010d53"
   }
  }
 },
 "nbformat": 4,
 "nbformat_minor": 2
}
