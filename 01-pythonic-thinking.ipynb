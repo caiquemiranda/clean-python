{
 "cells": [
  {
   "cell_type": "markdown",
   "metadata": {},
   "source": [
    "### Write Pythonic Code"
   ]
  },
  {
   "cell_type": "markdown",
   "metadata": {},
   "source": [
    "#### Naming"
   ]
  },
  {
   "cell_type": "code",
   "execution_count": null,
   "metadata": {},
   "outputs": [],
   "source": [
    "# Listing 1-1. Variable Names\n",
    "\n",
    "names = \"Python\" # variable name\n",
    "\n",
    "job_title = \"Software Engineer\" # variable name with underscore\n",
    "\n",
    "populated_countries_list = [] # variable name with underscore"
   ]
  },
  {
   "cell_type": "code",
   "execution_count": null,
   "metadata": {},
   "outputs": [],
   "source": [
    "#Listing 1-2. Nonmangling Names\n",
    "\n",
    "_books = {} # variable name to define private\n",
    "\n",
    "__dict = [] # prevent name mangling with python in-build lib"
   ]
  },
  {
   "cell_type": "code",
   "execution_count": null,
   "metadata": {},
   "outputs": [],
   "source": [
    "# Listing 1-3. Normal Function Names\n",
    "\n",
    "# function name with single underscore\n",
    "def get_data():\n",
    "    pass\n",
    "\n",
    "def calculate_tax_data():\n",
    "    pass"
   ]
  },
  {
   "cell_type": "code",
   "execution_count": null,
   "metadata": {},
   "outputs": [],
   "source": [
    "# Listing 1-4. Function Names to Represent Private Methods and Nonmangling\n",
    "\n",
    "# Private method with single underscore\n",
    "def _get_data():\n",
    "    pass"
   ]
  },
  {
   "cell_type": "code",
   "execution_count": null,
   "metadata": {},
   "outputs": [],
   "source": [
    "# Listing 1-5. Function Names\n",
    "\n",
    "# Wrong Way\n",
    "def get_user_info(id):\n",
    "    db = get_db_connection()\n",
    "    user = execute_query_for_user(id)\n",
    "    return user\n",
    "\n",
    "# Right way\n",
    "def get_user_by(user_id):\n",
    "    db = get_db_connection()\n",
    "    user = execute_user_query(user_id)\n",
    "    return user"
   ]
  },
  {
   "cell_type": "code",
   "execution_count": null,
   "metadata": {},
   "outputs": [],
   "source": [
    "# Listing 1-6. Class Names\n",
    "\n",
    "class UserInformation:\n",
    "    \n",
    "    def get_user(id):\n",
    "        db = get_db_connection()\n",
    "        user = execute_query_for_user(id)\n",
    "        return user"
   ]
  },
  {
   "cell_type": "code",
   "execution_count": null,
   "metadata": {},
   "outputs": [],
   "source": [
    "# Listing 1-7. Constant Names\n",
    "\n",
    "TOTAL = 56\n",
    "\n",
    "TIMOUT = 6\n",
    "\n",
    "MAX_OVERFLOW = 7"
   ]
  },
  {
   "cell_type": "code",
   "execution_count": null,
   "metadata": {},
   "outputs": [],
   "source": [
    "# Listing 1-8. Function and Method Arguments\n",
    "\n",
    "def calculate_tax(amount, yearly_tax):\n",
    "    pass\n",
    "\n",
    "class Player:\n",
    "\n",
    "    def get_total_score(self, player_name):\n",
    "        pass"
   ]
  },
  {
   "cell_type": "markdown",
   "metadata": {},
   "source": [
    "#### Expressions and statements in Your Code"
   ]
  },
  {
   "cell_type": "code",
   "execution_count": null,
   "metadata": {},
   "outputs": [],
   "source": [
    "# Listing 1-9. Sort a Nested Dictionary\n",
    "\n",
    "users = [{\"first_name\":\"Helen\", \"age\":39},\n",
    "         {\"first_name\":\"Buck\", \"age\":10},\n",
    "         {\"first_name\":\"anni\", \"age\":9}]\n",
    "\n",
    "users = sorted(users, key=lambda user: user[\"first_name\"].lower())"
   ]
  },
  {
   "cell_type": "code",
   "execution_count": null,
   "metadata": {},
   "outputs": [],
   "source": [
    "# Listing 1-10. Sorted Dictionary by Function\n",
    "\n",
    "users = [{\"first_name\":\"Helen\", \"age\":39},\n",
    "         {\"first_name\":\"Buck\", \"age\":10},\n",
    "         {\"name\":\"anni\", \"age\":9}]\n",
    "\n",
    "def get_user_name(users):\n",
    "    \"\"\"Get name of the user in lower case\"\"\"\n",
    "    return users[\"first_name\"].lower()\n",
    "\n",
    "def get_sorted_dictionary(users):\n",
    "\"\"\"Sort the nested dictionary\"\"\"\n",
    "\n",
    "if not isinstance(users, dict):\n",
    "    raise ValueError(\"Not a correct dictionary\")\n",
    "\n",
    "if not len(users):\n",
    "    raise ValueError(\"Empty dictionary\")\n",
    "\n",
    "users_by_name = sorted(users, key=get_user_name)\n",
    "return users_by_name"
   ]
  },
  {
   "cell_type": "code",
   "execution_count": null,
   "metadata": {},
   "outputs": [],
   "source": [
    "# Listing 1-11. Reading a CSV File\n",
    "\n",
    "import csv\n",
    "with open(\"employee.csv\", mode=\"r\") as csv_file:\n",
    "    \n",
    "    csv_reader = csv.DictReader(csv_file)\n",
    "    line_count = 0\n",
    "    \n",
    "    for row in csv_reader:\n",
    "        if line_count == 0:\n",
    "            print(f'Column names are {\", \".join(row)}')\n",
    "            line_count += 1\n",
    "\n",
    "            print(f'\\t{row[\"name\"]} salary: {row[\"salary\"]}'\n",
    "                f'and was born in {row[\"birthday month\"]}.')\n",
    "        line_count += 1\n",
    "\n",
    "    print(f'Processed {line_count} lines.')"
   ]
  },
  {
   "cell_type": "code",
   "execution_count": null,
   "metadata": {},
   "outputs": [],
   "source": [
    "# Reading a CSV File, with More Readable Code\n",
    "\n",
    "import csv\n",
    "with open('employee.txt', mode='r') as csv_file:\n",
    "    \n",
    "    csv_reader = csv.DictReader(csv_file)\n",
    "    line_count = 0\n",
    "    process_salary(csv_reader)\n",
    "\n",
    "def process_salary(csv_reader):\n",
    " \"\"\"Process salary of user from csv file.\"\"\"\n",
    "    \n",
    "    for row in csv_reader:\n",
    "        \n",
    "        if line_count == 0:\n",
    "            print(f'Column names are {\", \".join(row)}')\n",
    "            line_count += 1\n",
    "    \n",
    "        print(f'\\t{row[\"name\"]} salary: {row[\"salary\"]}')\n",
    "        line_count += 1\n",
    "        \n",
    "    print(f'Completed {line_count} lines.')"
   ]
  },
  {
   "cell_type": "markdown",
   "metadata": {},
   "source": [
    "#### Embrace the Pythonic Way to Write Code"
   ]
  },
  {
   "cell_type": "code",
   "execution_count": 5,
   "metadata": {},
   "outputs": [
    {
     "data": {
      "text/plain": [
       "'Json smart'"
      ]
     },
     "execution_count": 5,
     "metadata": {},
     "output_type": "execute_result"
    }
   ],
   "source": [
    "# Listing 1-13. Using the join Method\n",
    "\n",
    "first_name = \"Json\"\n",
    "last_name = \"smart\"\n",
    "\n",
    "# Not a recommended way to concatenate string\n",
    "full_name = first_name + \" \" + last_name\n",
    "\n",
    "# More performant and improve readability\n",
    "\" \".join([first_name, last_name])"
   ]
  },
  {
   "cell_type": "code",
   "execution_count": null,
   "metadata": {},
   "outputs": [],
   "source": [
    "if val: # Will work when val is not None"
   ]
  },
  {
   "cell_type": "code",
   "execution_count": null,
   "metadata": {},
   "outputs": [],
   "source": [
    "# Don't do this\n",
    "val = {}\n",
    "if val: # This will be false in python context\n",
    "    \n",
    "# Do this:\n",
    "if val is not None: # Make sure only None value will be false"
   ]
  },
  {
   "cell_type": "code",
   "execution_count": null,
   "metadata": {},
   "outputs": [],
   "source": [
    "# Don’t do this:\n",
    "if not val is None:\n",
    "\n",
    "# Do this:\n",
    "if val is not None:"
   ]
  },
  {
   "cell_type": "code",
   "execution_count": null,
   "metadata": {},
   "outputs": [],
   "source": [
    "# Don’t do this:\n",
    "square = lambda x: x * x\n",
    "\n",
    "# Do this:\n",
    "def square(val):\n",
    "    return val * val"
   ]
  },
  {
   "cell_type": "code",
   "execution_count": null,
   "metadata": {},
   "outputs": [],
   "source": [
    "# Don’t do this:\n",
    "def calculate_interest(principle, time rate):\n",
    "    if principle > 0:\n",
    "        return (principle * time * rate) / 100\n",
    "\n",
    "def calculate_interest(principle, time rate):\n",
    "    if principle < 0:\n",
    "        return\n",
    "    \n",
    "    return (principle * time * rate) / 100"
   ]
  },
  {
   "cell_type": "code",
   "execution_count": null,
   "metadata": {},
   "outputs": [],
   "source": [
    "# Do this:\n",
    "def calculate_interest(principle, time rate):\n",
    "    if principle > 0:\n",
    "        return (principle * time * rate) / 100\n",
    "    \n",
    "    else:\n",
    "        return None\n",
    "\n",
    "def calculate_interest(principle, time rate):\n",
    "    if principle < 0:\n",
    "        return None\n",
    "    \n",
    "    return (principle * time * rate) / 100"
   ]
  },
  {
   "cell_type": "code",
   "execution_count": null,
   "metadata": {},
   "outputs": [],
   "source": [
    "# Don’t do this:\n",
    "Data = \"Hello, how are you doing?\"\n",
    "if data.startswith(\"Hello\")\n",
    "\n",
    "# Do this:\n",
    "data = \"Hello, how are you doing?\"\n",
    "if data[:5] == \"Hello\":"
   ]
  },
  {
   "cell_type": "code",
   "execution_count": null,
   "metadata": {},
   "outputs": [],
   "source": [
    "# Don’t do this:\n",
    "user_ages = {\"Larry\": 35, \"Jon\": 89, \"Imli\": 12}\n",
    "type(user_ages) == dict:\n",
    "\n",
    "# Do this:\n",
    "user_ages = {\"Larry\": 35, \"Jon\": 89, \"Imli\": 12}\n",
    "if isinstance(user_ages, dict):"
   ]
  },
  {
   "cell_type": "code",
   "execution_count": null,
   "metadata": {},
   "outputs": [],
   "source": [
    "# Don’t do this:\n",
    "if is_empty = False\n",
    "if is_empty == False:\n",
    "if is_empty is False:\n",
    "\n",
    "# Do this:\n",
    "is_empty = False\n",
    "if is_empty:"
   ]
  },
  {
   "cell_type": "code",
   "execution_count": null,
   "metadata": {},
   "outputs": [],
   "source": [
    "# Don’t do this:\n",
    "class NewProtocol:\n",
    "    def __init__(self, host, port, data):\n",
    "        self.host = host\n",
    "        self.port = port\n",
    "        self.data = data\n",
    "\n",
    "def __enter__(self):\n",
    "    self._client = Socket()\n",
    "    self._client.connect((self.host, self.port))\n",
    "    self._transfer_data(data)\n",
    "\n",
    "def __exit__(self, exception, value, traceback):\n",
    "    self._receive_data()\n",
    "    self._client.close()\n",
    "\n",
    "def _transfer_data(self):\n",
    "    pass\n",
    "\n",
    "def _receive_data(self):\n",
    "    pass\n",
    "\n",
    "con = NewProtocol(host, port, data)\n",
    "with con:\n",
    "    transfer_data()\n",
    "# Do this:\n",
    "#connection\n",
    "class NewProtocol:\n",
    "    def __init__(self, host, port):\n",
    "        self.host = host\n",
    "        self.port = port\n",
    "    \n",
    "    def __enter__(self):\n",
    "        self._client = socket()\n",
    "        self._client.connect((self.host, self.port))\n",
    "\n",
    "    def __exit__(self, exception, value, traceback):\n",
    "        self._client.close()\n",
    "    \n",
    "    def transfer_data(self, payload):\n",
    "        ...\n",
    "    \n",
    "    def receive_data(self):\n",
    "        ...\n",
    "with connection.NewProtocol(host, port):\n",
    "    transfer_data"
   ]
  },
  {
   "cell_type": "markdown",
   "metadata": {},
   "source": [
    "### Using Docstrings"
   ]
  },
  {
   "cell_type": "markdown",
   "metadata": {},
   "source": [
    "#### Module-level Docstrings"
   ]
  },
  {
   "cell_type": "markdown",
   "metadata": {},
   "source": [
    "#### Make the Class Docstring Descriptive"
   ]
  },
  {
   "cell_type": "markdown",
   "metadata": {},
   "source": [
    "#### Functions Docstrings"
   ]
  },
  {
   "cell_type": "markdown",
   "metadata": {},
   "source": [
    "#### Some Useful Docstring Tools"
   ]
  },
  {
   "cell_type": "markdown",
   "metadata": {},
   "source": [
    "### Write Pythonic Control Structures"
   ]
  },
  {
   "cell_type": "markdown",
   "metadata": {},
   "source": [
    "#### Use List Comprehensions"
   ]
  },
  {
   "cell_type": "markdown",
   "metadata": {},
   "source": [
    "#### Don't Make Complex List Comprehension"
   ]
  },
  {
   "cell_type": "markdown",
   "metadata": {},
   "source": [
    "#### Should You Use a Lambda ?"
   ]
  },
  {
   "cell_type": "markdown",
   "metadata": {},
   "source": [
    "#### When to Use Generators vs. List Comprehensions"
   ]
  },
  {
   "cell_type": "markdown",
   "metadata": {},
   "source": [
    "#### Why Not to Use else With Loops"
   ]
  },
  {
   "cell_type": "markdown",
   "metadata": {},
   "source": [
    "#### Why range is Better in Python 3"
   ]
  },
  {
   "cell_type": "markdown",
   "metadata": {},
   "source": [
    "### Raising Exceptions"
   ]
  },
  {
   "cell_type": "markdown",
   "metadata": {},
   "source": [
    "#### Frequently Raised Exceptions"
   ]
  },
  {
   "cell_type": "markdown",
   "metadata": {},
   "source": [
    "#### Leverage finally to Handle Exceptions"
   ]
  },
  {
   "cell_type": "markdown",
   "metadata": {},
   "source": [
    "#### Create Your Own Exception Class"
   ]
  },
  {
   "cell_type": "markdown",
   "metadata": {},
   "source": [
    "#### Handle Only Specific Exceptions"
   ]
  },
  {
   "cell_type": "markdown",
   "metadata": {},
   "source": [
    "#### Watch Out for Third-Party Exceptions"
   ]
  },
  {
   "cell_type": "markdown",
   "metadata": {},
   "source": [
    "#### Prefer to Have Minimum Code Under try"
   ]
  },
  {
   "cell_type": "markdown",
   "metadata": {},
   "source": [
    "## End."
   ]
  }
 ],
 "metadata": {
  "kernelspec": {
   "display_name": "Python 3.10.5 64-bit",
   "language": "python",
   "name": "python3"
  },
  "language_info": {
   "codemirror_mode": {
    "name": "ipython",
    "version": 3
   },
   "file_extension": ".py",
   "mimetype": "text/x-python",
   "name": "python",
   "nbconvert_exporter": "python",
   "pygments_lexer": "ipython3",
   "version": "3.10.5"
  },
  "orig_nbformat": 4,
  "vscode": {
   "interpreter": {
    "hash": "74af3d2f25f1e46ebd2903d59225d79e4675ec224d56c01fc30cd168c2010d53"
   }
  }
 },
 "nbformat": 4,
 "nbformat_minor": 2
}
