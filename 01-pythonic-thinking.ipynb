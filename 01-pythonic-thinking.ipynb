{
 "cells": [
  {
   "cell_type": "markdown",
   "metadata": {},
   "source": [
    "### Write Pythonic Code"
   ]
  },
  {
   "cell_type": "markdown",
   "metadata": {},
   "source": [
    "#### Naming"
   ]
  },
  {
   "cell_type": "code",
   "execution_count": null,
   "metadata": {},
   "outputs": [],
   "source": [
    "# Listing 1-1. Variable Names\n",
    "\n",
    "names = \"Python\" # variable name\n",
    "\n",
    "job_title = \"Software Engineer\" # variable name with underscore\n",
    "\n",
    "populated_countries_list = [] # variable name with underscore"
   ]
  },
  {
   "cell_type": "code",
   "execution_count": null,
   "metadata": {},
   "outputs": [],
   "source": [
    "#Listing 1-2. Nonmangling Names\n",
    "\n",
    "_books = {} # variable name to define private\n",
    "\n",
    "__dict = [] # prevent name mangling with python in-build lib"
   ]
  },
  {
   "cell_type": "code",
   "execution_count": null,
   "metadata": {},
   "outputs": [],
   "source": [
    "# Listing 1-3. Normal Function Names\n",
    "\n",
    "# function name with single underscore\n",
    "def get_data():\n",
    "    pass\n",
    "\n",
    "def calculate_tax_data():\n",
    "    pass"
   ]
  },
  {
   "cell_type": "code",
   "execution_count": null,
   "metadata": {},
   "outputs": [],
   "source": [
    "# Listing 1-4. Function Names to Represent Private Methods and Nonmangling\n",
    "\n",
    "# Private method with single underscore\n",
    "def _get_data():\n",
    "    pass"
   ]
  },
  {
   "cell_type": "code",
   "execution_count": null,
   "metadata": {},
   "outputs": [],
   "source": [
    "# Listing 1-5. Function Names\n",
    "\n",
    "# Wrong Way\n",
    "def get_user_info(id):\n",
    "    db = get_db_connection()\n",
    "    user = execute_query_for_user(id)\n",
    "    return user\n",
    "\n",
    "# Right way\n",
    "def get_user_by(user_id):\n",
    "    db = get_db_connection()\n",
    "    user = execute_user_query(user_id)\n",
    "    return user"
   ]
  },
  {
   "cell_type": "code",
   "execution_count": null,
   "metadata": {},
   "outputs": [],
   "source": [
    "# Listing 1-6. Class Names\n",
    "\n",
    "class UserInformation:\n",
    "    \n",
    "    def get_user(id):\n",
    "        db = get_db_connection()\n",
    "        user = execute_query_for_user(id)\n",
    "        return user"
   ]
  },
  {
   "cell_type": "code",
   "execution_count": null,
   "metadata": {},
   "outputs": [],
   "source": [
    "# Listing 1-7. Constant Names\n",
    "\n",
    "TOTAL = 56\n",
    "\n",
    "TIMOUT = 6\n",
    "\n",
    "MAX_OVERFLOW = 7"
   ]
  },
  {
   "cell_type": "code",
   "execution_count": null,
   "metadata": {},
   "outputs": [],
   "source": [
    "# Listing 1-8. Function and Method Arguments\n",
    "\n",
    "def calculate_tax(amount, yearly_tax):\n",
    "    pass\n",
    "\n",
    "class Player:\n",
    "\n",
    "    def get_total_score(self, player_name):\n",
    "        pass"
   ]
  },
  {
   "cell_type": "markdown",
   "metadata": {},
   "source": [
    "#### Expressions and statements in Your Code"
   ]
  },
  {
   "cell_type": "code",
   "execution_count": null,
   "metadata": {},
   "outputs": [],
   "source": [
    "# Listing 1-9. Sort a Nested Dictionary\n",
    "\n",
    "users = [{\"first_name\":\"Helen\", \"age\":39},\n",
    "         {\"first_name\":\"Buck\", \"age\":10},\n",
    "         {\"first_name\":\"anni\", \"age\":9}]\n",
    "\n",
    "users = sorted(users, key=lambda user: user[\"first_name\"].lower())"
   ]
  },
  {
   "cell_type": "code",
   "execution_count": null,
   "metadata": {},
   "outputs": [],
   "source": [
    "# Listing 1-10. Sorted Dictionary by Function\n",
    "\n",
    "users = [{\"first_name\":\"Helen\", \"age\":39},\n",
    "         {\"first_name\":\"Buck\", \"age\":10},\n",
    "         {\"name\":\"anni\", \"age\":9}]\n",
    "\n",
    "def get_user_name(users):\n",
    "    \"\"\"Get name of the user in lower case\"\"\"\n",
    "    return users[\"first_name\"].lower()\n",
    "\n",
    "def get_sorted_dictionary(users):\n",
    "\"\"\"Sort the nested dictionary\"\"\"\n",
    "\n",
    "if not isinstance(users, dict):\n",
    "    raise ValueError(\"Not a correct dictionary\")\n",
    "\n",
    "if not len(users):\n",
    "    raise ValueError(\"Empty dictionary\")\n",
    "\n",
    "users_by_name = sorted(users, key=get_user_name)\n",
    "return users_by_name"
   ]
  },
  {
   "cell_type": "code",
   "execution_count": null,
   "metadata": {},
   "outputs": [],
   "source": [
    "# Listing 1-11. Reading a CSV File\n",
    "\n",
    "import csv\n",
    "with open(\"employee.csv\", mode=\"r\") as csv_file:\n",
    "    \n",
    "    csv_reader = csv.DictReader(csv_file)\n",
    "    line_count = 0\n",
    "    \n",
    "    for row in csv_reader:\n",
    "        if line_count == 0:\n",
    "            print(f'Column names are {\", \".join(row)}')\n",
    "            line_count += 1\n",
    "\n",
    "            print(f'\\t{row[\"name\"]} salary: {row[\"salary\"]}'\n",
    "                f'and was born in {row[\"birthday month\"]}.')\n",
    "        line_count += 1\n",
    "\n",
    "    print(f'Processed {line_count} lines.')"
   ]
  },
  {
   "cell_type": "code",
   "execution_count": null,
   "metadata": {},
   "outputs": [],
   "source": [
    "# Reading a CSV File, with More Readable Code\n",
    "\n",
    "import csv\n",
    "with open('employee.txt', mode='r') as csv_file:\n",
    "    \n",
    "    csv_reader = csv.DictReader(csv_file)\n",
    "    line_count = 0\n",
    "    process_salary(csv_reader)\n",
    "\n",
    "def process_salary(csv_reader):\n",
    " \"\"\"Process salary of user from csv file.\"\"\"\n",
    "    \n",
    "    for row in csv_reader:\n",
    "        \n",
    "        if line_count == 0:\n",
    "            print(f'Column names are {\", \".join(row)}')\n",
    "            line_count += 1\n",
    "    \n",
    "        print(f'\\t{row[\"name\"]} salary: {row[\"salary\"]}')\n",
    "        line_count += 1\n",
    "        \n",
    "    print(f'Completed {line_count} lines.')"
   ]
  },
  {
   "cell_type": "markdown",
   "metadata": {},
   "source": [
    "#### Embrace the Pythonic Way to Write Code"
   ]
  },
  {
   "cell_type": "code",
   "execution_count": 5,
   "metadata": {},
   "outputs": [
    {
     "data": {
      "text/plain": [
       "'Json smart'"
      ]
     },
     "execution_count": 5,
     "metadata": {},
     "output_type": "execute_result"
    }
   ],
   "source": [
    "# Listing 1-13. Using the join Method\n",
    "\n",
    "first_name = \"Json\"\n",
    "last_name = \"smart\"\n",
    "\n",
    "# Not a recommended way to concatenate string\n",
    "full_name = first_name + \" \" + last_name\n",
    "\n",
    "# More performant and improve readability\n",
    "\" \".join([first_name, last_name])"
   ]
  },
  {
   "cell_type": "code",
   "execution_count": null,
   "metadata": {},
   "outputs": [],
   "source": [
    "if val: # Will work when val is not None"
   ]
  },
  {
   "cell_type": "code",
   "execution_count": null,
   "metadata": {},
   "outputs": [],
   "source": [
    "# Don't do this\n",
    "val = {}\n",
    "if val: # This will be false in python context\n",
    "    \n",
    "# Do this:\n",
    "if val is not None: # Make sure only None value will be false"
   ]
  },
  {
   "cell_type": "code",
   "execution_count": null,
   "metadata": {},
   "outputs": [],
   "source": [
    "# Don’t do this:\n",
    "if not val is None:\n",
    "\n",
    "# Do this:\n",
    "if val is not None:"
   ]
  },
  {
   "cell_type": "code",
   "execution_count": null,
   "metadata": {},
   "outputs": [],
   "source": [
    "# Don’t do this:\n",
    "square = lambda x: x * x\n",
    "\n",
    "# Do this:\n",
    "def square(val):\n",
    "    return val * val"
   ]
  },
  {
   "cell_type": "code",
   "execution_count": null,
   "metadata": {},
   "outputs": [],
   "source": [
    "# Don’t do this:\n",
    "def calculate_interest(principle, time rate):\n",
    "    if principle > 0:\n",
    "        return (principle * time * rate) / 100\n",
    "\n",
    "def calculate_interest(principle, time rate):\n",
    "    if principle < 0:\n",
    "        return\n",
    "    \n",
    "    return (principle * time * rate) / 100"
   ]
  },
  {
   "cell_type": "code",
   "execution_count": null,
   "metadata": {},
   "outputs": [],
   "source": [
    "# Do this:\n",
    "def calculate_interest(principle, time rate):\n",
    "    if principle > 0:\n",
    "        return (principle * time * rate) / 100\n",
    "    \n",
    "    else:\n",
    "        return None\n",
    "\n",
    "def calculate_interest(principle, time rate):\n",
    "    if principle < 0:\n",
    "        return None\n",
    "    \n",
    "    return (principle * time * rate) / 100"
   ]
  },
  {
   "cell_type": "code",
   "execution_count": null,
   "metadata": {},
   "outputs": [],
   "source": [
    "# Don’t do this:\n",
    "Data = \"Hello, how are you doing?\"\n",
    "if data.startswith(\"Hello\")\n",
    "\n",
    "# Do this:\n",
    "data = \"Hello, how are you doing?\"\n",
    "if data[:5] == \"Hello\":"
   ]
  },
  {
   "cell_type": "code",
   "execution_count": null,
   "metadata": {},
   "outputs": [],
   "source": [
    "# Don’t do this:\n",
    "user_ages = {\"Larry\": 35, \"Jon\": 89, \"Imli\": 12}\n",
    "type(user_ages) == dict:\n",
    "\n",
    "# Do this:\n",
    "user_ages = {\"Larry\": 35, \"Jon\": 89, \"Imli\": 12}\n",
    "if isinstance(user_ages, dict):"
   ]
  },
  {
   "cell_type": "code",
   "execution_count": null,
   "metadata": {},
   "outputs": [],
   "source": [
    "# Don’t do this:\n",
    "if is_empty = False\n",
    "if is_empty == False:\n",
    "if is_empty is False:\n",
    "\n",
    "# Do this:\n",
    "is_empty = False\n",
    "if is_empty:"
   ]
  },
  {
   "cell_type": "code",
   "execution_count": null,
   "metadata": {},
   "outputs": [],
   "source": [
    "# Don’t do this:\n",
    "class NewProtocol:\n",
    "    def __init__(self, host, port, data):\n",
    "        self.host = host\n",
    "        self.port = port\n",
    "        self.data = data\n",
    "\n",
    "def __enter__(self):\n",
    "    self._client = Socket()\n",
    "    self._client.connect((self.host, self.port))\n",
    "    self._transfer_data(data)\n",
    "\n",
    "def __exit__(self, exception, value, traceback):\n",
    "    self._receive_data()\n",
    "    self._client.close()\n",
    "\n",
    "def _transfer_data(self):\n",
    "    pass\n",
    "\n",
    "def _receive_data(self):\n",
    "    pass\n",
    "\n",
    "con = NewProtocol(host, port, data)\n",
    "with con:\n",
    "    transfer_data()\n",
    "\n",
    "# Do this:\n",
    "#connection\n",
    "class NewProtocol:\n",
    "    def __init__(self, host, port):\n",
    "        self.host = host\n",
    "        self.port = port\n",
    "    \n",
    "    def __enter__(self):\n",
    "        self._client = socket()\n",
    "        self._client.connect((self.host, self.port))\n",
    "\n",
    "    def __exit__(self, exception, value, traceback):\n",
    "        self._client.close()\n",
    "    \n",
    "    def transfer_data(self, payload):\n",
    "        ...\n",
    "    \n",
    "    def receive_data(self):\n",
    "        ...\n",
    "with connection.NewProtocol(host, port):\n",
    "    transfer_data"
   ]
  },
  {
   "cell_type": "markdown",
   "metadata": {},
   "source": [
    "### Using Docstrings"
   ]
  },
  {
   "cell_type": "code",
   "execution_count": null,
   "metadata": {},
   "outputs": [],
   "source": [
    "# Listing 1-14. Function with a Docstring\n",
    "\n",
    "def get_prime_number():\n",
    "    \"\"\"Get list of prime numbers between 1 to 100.\"\"\"\""
   ]
  },
  {
   "cell_type": "code",
   "execution_count": null,
   "metadata": {},
   "outputs": [],
   "source": [
    "# Listing 1-15. Multiline Docstring\n",
    "\n",
    "def call_weather_api(url, location):\n",
    "    \"\"\"Get the weather of specific location.\n",
    "    Calling weather api to check for weather by using weather api\n",
    "    and location. Make sure you provide city name only, country and\n",
    "    county names won't be accepted and will throw exception if not\n",
    "    found the city name.\n",
    "\n",
    "    :param url: URL of the api to get weather.\n",
    "    :type url: str\n",
    "    :param location: Location of the city to get the weather.\n",
    "    :type location: str\n",
    "    :return: Give the weather information of given location.\n",
    "    :rtype: str\n",
    "    \"\"\""
   ]
  },
  {
   "cell_type": "code",
   "execution_count": null,
   "metadata": {},
   "outputs": [],
   "source": [
    "# Listing 1-16. Multiline Docstring with typing\n",
    "\n",
    "def call_weather_api(url: str, location: str) -> str:\n",
    "    \"\"\"Get the weather of specific location.\n",
    "    Calling weather api to check for weather by using weather api\n",
    "    and location. Make sure you provide city name only, country and\n",
    "    county names won't be accepted and will throw exception if not\n",
    "    found the city name.\n",
    "    \"\"\""
   ]
  },
  {
   "cell_type": "code",
   "execution_count": null,
   "metadata": {},
   "outputs": [],
   "source": [
    "#  Here’s a Google docstrings example:\n",
    "\"\"\"Calling given url.\n",
    "\n",
    "Parameters:\n",
    "    url (str): url address to call.\n",
    "\n",
    "Returns:\n",
    "    dict: Response of the url api.\n",
    "\"\"\""
   ]
  },
  {
   "cell_type": "code",
   "execution_count": null,
   "metadata": {},
   "outputs": [],
   "source": [
    "# Here is a restructured text example \n",
    "# (the official Python documents recommend this):\n",
    "\n",
    "\"\"\" Calling given url.\n",
    "\n",
    ":param url: Url to call.\n",
    ":type url: str\n",
    ":returns: Response of the url api.\n",
    ":rtype: dict\n",
    "\n",
    "\"\"\""
   ]
  },
  {
   "cell_type": "code",
   "execution_count": null,
   "metadata": {},
   "outputs": [],
   "source": [
    "# Here is a NumPy/SciPy docstrings example:\n",
    "\n",
    "\"\"\" Calling given url.\n",
    "\n",
    "Parameters\n",
    "----------\n",
    "\n",
    "url : str\n",
    "    URL to call.\n",
    "Returns\n",
    "\n",
    "-------\n",
    "\n",
    "dict\n",
    "    Response of url\n",
    "\"\"\""
   ]
  },
  {
   "cell_type": "code",
   "execution_count": null,
   "metadata": {},
   "outputs": [],
   "source": [
    "# Here’s an Epytext example:\n",
    "\n",
    "\"\"\"Call specific api.\n",
    "@type url: str\n",
    "@param file_loc: Call given url.\n",
    "@rtype: dict\n",
    "@returns: Response of the called api.\n",
    "\"\"\""
   ]
  },
  {
   "cell_type": "markdown",
   "metadata": {},
   "source": [
    "#### Module-level Docstrings"
   ]
  },
  {
   "cell_type": "code",
   "execution_count": null,
   "metadata": {},
   "outputs": [],
   "source": [
    "# Listing 1-17. Module Docstring\n",
    "\n",
    "\"\"\"\n",
    "This module contains all of the network related requests. This\n",
    "module will check for all the exceptions while making the\n",
    "network calls and raise exceptions for any unknown exception.\n",
    "Make sure that when you use this module, you handle these\n",
    "exceptions in client code as:\n",
    "NetworkError exception for network calls.\n",
    "NetworkNotFound exception if network not found.\n",
    "\"\"\"\n",
    "\n",
    "import urllib3\n",
    "import json"
   ]
  },
  {
   "cell_type": "markdown",
   "metadata": {},
   "source": [
    "#### Make the Class Docstring Descriptive"
   ]
  },
  {
   "cell_type": "code",
   "execution_count": null,
   "metadata": {},
   "outputs": [],
   "source": [
    "# Listing 1-18. Single-Line Docstring\n",
    "class Student:\n",
    "    \"\"\"This class handle actions performed by a student.\"\"\"\n",
    "\n",
    "def __init__(self):\n",
    "    pass"
   ]
  },
  {
   "cell_type": "code",
   "execution_count": null,
   "metadata": {},
   "outputs": [],
   "source": [
    "# Listing 1-19. Multiline Class Docstring\n",
    "class Student:\n",
    "    \"\"\"Student class information.\n",
    "    This class handle actions performed by a student.\n",
    "    This class provides information about student full name,\n",
    "    age, roll-number and other information.\n",
    "\n",
    "    Usage:\n",
    "    import student\n",
    "\n",
    "    student = student.Student()\n",
    "    student.get_name()\n",
    "    >>> 678998\n",
    "\"\"\"\n",
    "    def __init__(self):\n",
    "        pass"
   ]
  },
  {
   "cell_type": "markdown",
   "metadata": {},
   "source": [
    "#### Functions Docstrings"
   ]
  },
  {
   "cell_type": "code",
   "execution_count": null,
   "metadata": {},
   "outputs": [],
   "source": [
    "# Listing 1-20. Function Docstring\n",
    "\n",
    "def is_prime_number(number):\n",
    "    \"\"\"Check for prime number.\n",
    "    \n",
    "    Check the given number is prime number or not by checking\n",
    "    against all the numbers less the square root of given number.\n",
    "\n",
    "    :param number: Given number to check for prime.\n",
    "    :type number: int\n",
    "    :return: True if number is prime otherwise False.\n",
    "    :rtype: boolean\n",
    "    \"\"\""
   ]
  },
  {
   "cell_type": "markdown",
   "metadata": {},
   "source": [
    "#### Some Useful Docstring Tools"
   ]
  },
  {
   "cell_type": "markdown",
   "metadata": {},
   "source": [
    "- Sphinx: http://www.sphinx-doc.org/en/stable/\n",
    "This is the most popular documentation tool for\n",
    "Python. This tool will autogenerate Python documents.\n",
    "It can generate multiple-format documentation files.\n",
    "---\n",
    "- Pycco: https://pycco-docs.github.io/pycco/\n",
    "This is quick way to generate documentation for your\n",
    "Python code. The main feature of this tool is to display\n",
    "code and documentation side-by-side.\n",
    "---\n",
    "- Read the docs: https://readthedocs.org/\n",
    "This is a popular tool in the open source community.\n",
    "Its main feature is to build, version, and host your docs\n",
    "for you.\n",
    "---\n",
    "- Epydocs: http://epydoc.sourceforge.net/\n",
    "This tool generates API documentation for Python\n",
    "modules based on their docstrings."
   ]
  },
  {
   "cell_type": "markdown",
   "metadata": {},
   "source": [
    "### Write Pythonic Control Structures"
   ]
  },
  {
   "cell_type": "markdown",
   "metadata": {},
   "source": [
    "#### Use List Comprehensions"
   ]
  },
  {
   "cell_type": "code",
   "execution_count": null,
   "metadata": {},
   "outputs": [],
   "source": [
    "numbers = [10, 45, 34, 89, 34, 23, 6]\n",
    "square_numbers = map(lambda num: num**2, num)"
   ]
  },
  {
   "cell_type": "code",
   "execution_count": null,
   "metadata": {},
   "outputs": [],
   "source": [
    "square_numbers = [num**2 for num in numbers]"
   ]
  },
  {
   "cell_type": "code",
   "execution_count": null,
   "metadata": {},
   "outputs": [],
   "source": [
    "data = [1, \"A\", 0, False, True]\n",
    "filtered_data = filter(None, data)"
   ]
  },
  {
   "cell_type": "code",
   "execution_count": null,
   "metadata": {},
   "outputs": [],
   "source": [
    "filtered_data = [item for item in filter if item]"
   ]
  },
  {
   "cell_type": "code",
   "execution_count": null,
   "metadata": {},
   "outputs": [],
   "source": [
    "list_char = [\"a\", \"p\", \"t\", \"i\", \"y\", \"l\"]\n",
    "vowel = [\"a\", \"e\", \"i\", \"o\", \"u\"]\n",
    "\n",
    "only_vowel = []\n",
    "for item in list_char:\n",
    "    if item in vowel:\n",
    "        only_vowel.append(item)"
   ]
  },
  {
   "cell_type": "code",
   "execution_count": null,
   "metadata": {},
   "outputs": [],
   "source": [
    "[item for item in list_char if item in vowel]"
   ]
  },
  {
   "cell_type": "markdown",
   "metadata": {},
   "source": [
    "#### Don't Make Complex List Comprehension"
   ]
  },
  {
   "cell_type": "code",
   "execution_count": null,
   "metadata": {},
   "outputs": [],
   "source": [
    "matrix = [[1,2,3],\n",
    "[4,5,6],\n",
    "[7,8,9]]\n",
    "\n",
    "# and convert it to this one:\n",
    "\n",
    "matrix = [[1,4,7],\n",
    "[2,5,8],\n",
    "[3,6,9]]"
   ]
  },
  {
   "cell_type": "code",
   "execution_count": null,
   "metadata": {},
   "outputs": [],
   "source": [
    "# return \n",
    "[[ matrix[row][col] for row in range(0, height) ] for col in range(0, width)]"
   ]
  },
  {
   "cell_type": "code",
   "execution_count": null,
   "metadata": {},
   "outputs": [],
   "source": [
    "# return \n",
    "[[ matrix[row][col]\n",
    "for row in range(0, height) ]\n",
    "for col in range(0,width) ]"
   ]
  },
  {
   "cell_type": "code",
   "execution_count": null,
   "metadata": {},
   "outputs": [],
   "source": [
    "ages = [1, 34, 5, 7, 3, 57, 356]\n",
    "old = [age for age in ages if age > 10 and age < 100 and age is not None]"
   ]
  },
  {
   "cell_type": "code",
   "execution_count": null,
   "metadata": {},
   "outputs": [],
   "source": [
    "ages = [1, 34, 5, 7, 3, 57, 356]\n",
    "old = []\n",
    "\n",
    "for age in ages:\n",
    "    if age > 10 and age < 100:\n",
    "        old.append(age)\n",
    "\n",
    "print(old)"
   ]
  },
  {
   "cell_type": "markdown",
   "metadata": {},
   "source": [
    "#### Should You Use a Lambda ?"
   ]
  },
  {
   "cell_type": "code",
   "execution_count": null,
   "metadata": {},
   "outputs": [],
   "source": [
    "# Listing 1-21. Using a Lambda Without Assigning\n",
    "\n",
    "data = [[7], [3], [0], [8], [1], [4]]\n",
    "\n",
    "def min_val(data):\n",
    "    \"\"\"Find minimum value from the data list.\"\"\"\n",
    "    return min(data, key=lambda x:len(x))"
   ]
  },
  {
   "cell_type": "code",
   "execution_count": null,
   "metadata": {},
   "outputs": [],
   "source": [
    "min_val = min(data, key=lambda x: len(x))"
   ]
  },
  {
   "cell_type": "code",
   "execution_count": null,
   "metadata": {},
   "outputs": [],
   "source": [
    "# yes \n",
    "def f(x): return 2*x\n",
    "\n",
    "# No:\n",
    "f = lambda x: 2*x"
   ]
  },
  {
   "cell_type": "markdown",
   "metadata": {},
   "source": [
    "#### When to Use Generators vs. List Comprehensions"
   ]
  },
  {
   "cell_type": "code",
   "execution_count": null,
   "metadata": {},
   "outputs": [],
   "source": [
    "# Listing 1-22. Read File from a Document\n",
    "\n",
    "def read_file(file_name):\n",
    "    \"\"\"Read the file line by line.\"\"\"\n",
    "    \n",
    "    fread = open(file_name, \"r\")\n",
    "    data = [line for line in fread if line.startswith(\">>\")]\n",
    "    return data"
   ]
  },
  {
   "cell_type": "code",
   "execution_count": null,
   "metadata": {},
   "outputs": [],
   "source": [
    "# Listing 1-23. Read a File from a Document Using Iterators\n",
    "\n",
    "def read_file(file_name):\n",
    "    \"\"\"Read the file line by line.\"\"\"\n",
    "    with open(file_name) as fread:\n",
    "\n",
    "            for line in fread:\n",
    "                yield line\n",
    "                \n",
    "for line in read_file(\"logfile.txt\"):\n",
    "    print(line.startswith(\">>\")"
   ]
  },
  {
   "cell_type": "markdown",
   "metadata": {},
   "source": [
    "#### Why Not to Use else With Loops"
   ]
  },
  {
   "cell_type": "code",
   "execution_count": 4,
   "metadata": {},
   "outputs": [
    {
     "name": "stdout",
     "output_type": "stream",
     "text": [
      "Then\n",
      "Then\n",
      "Then\n",
      "Else\n"
     ]
    }
   ],
   "source": [
    "# Listing 1-24. else Clause with for Loop\n",
    "for item in [1, 2, 3]:\n",
    "    print(\"Then\")\n",
    "else:\n",
    "    print(\"Else\")"
   ]
  },
  {
   "cell_type": "code",
   "execution_count": 5,
   "metadata": {},
   "outputs": [
    {
     "name": "stdout",
     "output_type": "stream",
     "text": [
      "Then\n",
      "Then\n",
      "Then\n",
      "Else\n"
     ]
    }
   ],
   "source": [
    "# Listing 1-25. else Clause with the for Loop\n",
    "x = [1, 2, 3]\n",
    "\n",
    "while x:\n",
    "    print(\"Then\")\n",
    "    x.pop()\n",
    "\n",
    "else:\n",
    "    print(\"Else\")"
   ]
  },
  {
   "cell_type": "code",
   "execution_count": 9,
   "metadata": {},
   "outputs": [
    {
     "name": "stdout",
     "output_type": "stream",
     "text": [
      "Then\n"
     ]
    }
   ],
   "source": [
    "# Listing 1-26. else Clause with break\n",
    "\n",
    "for item in [1, 2, 3]:\n",
    "    if item % 2 == 0:\n",
    "        break\n",
    "    print(\"Then\")\n",
    "    \n",
    "else:\n",
    "    print(\"Else\")"
   ]
  },
  {
   "cell_type": "code",
   "execution_count": 8,
   "metadata": {},
   "outputs": [
    {
     "name": "stdout",
     "output_type": "stream",
     "text": [
      "Then\n"
     ]
    }
   ],
   "source": [
    "# Listing 1-27. else Clause with break\n",
    "flag = True\n",
    "\n",
    "for item in [1, 2, 3]:\n",
    "    if item % 2 == 0:\n",
    "        flag = False\n",
    "        break\n",
    "    print(\"Then\")\n",
    "    \n",
    "if flag:\n",
    "    print(\"Else\")"
   ]
  },
  {
   "cell_type": "markdown",
   "metadata": {},
   "source": [
    "#### Why range is Better in Python 3"
   ]
  },
  {
   "cell_type": "code",
   "execution_count": 11,
   "metadata": {},
   "outputs": [
    {
     "data": {
      "text/plain": [
       "range(0, 4)"
      ]
     },
     "execution_count": 11,
     "metadata": {},
     "output_type": "execute_result"
    }
   ],
   "source": [
    "# range(4)\n",
    "# range(0, 5) # Iterable\n",
    "# list(range(4))\n",
    "# [1, 2, 3, 4] #list "
   ]
  },
  {
   "cell_type": "markdown",
   "metadata": {},
   "source": [
    "- You can compare the range data.\n",
    "\n",
    "range(4) == range(4)\n",
    "True\n",
    "\n",
    "range(4) == range(5)\n",
    "False"
   ]
  },
  {
   "cell_type": "code",
   "execution_count": 12,
   "metadata": {},
   "outputs": [
    {
     "name": "stdout",
     "output_type": "stream",
     "text": [
      "True\n",
      "False\n"
     ]
    }
   ],
   "source": [
    "print(range(4) == range(4))\n",
    "\n",
    "print(range(4) == range(5))\n"
   ]
  },
  {
   "cell_type": "markdown",
   "metadata": {},
   "source": [
    "- You can slice.\n",
    "\n",
    "range(10)[2:]\n",
    "range(2, 10)\n",
    "\n",
    "range(10)[2:7, -1)\n",
    "range(2, 7, -1)"
   ]
  },
  {
   "cell_type": "code",
   "execution_count": 15,
   "metadata": {},
   "outputs": [
    {
     "name": "stdout",
     "output_type": "stream",
     "text": [
      "range(2, 10)\n",
      "range(2, 7, -1)\n"
     ]
    }
   ],
   "source": [
    "print(range(10)[2:])\n",
    "\n",
    "print(range(10)[2:7: -1])"
   ]
  },
  {
   "cell_type": "code",
   "execution_count": 16,
   "metadata": {},
   "outputs": [
    {
     "name": "stdout",
     "output_type": "stream",
     "text": [
      "1\n",
      "2\n",
      "3\n",
      "4\n",
      "5\n",
      "6\n",
      "7\n",
      "8\n",
      "9\n",
      "10\n",
      "0\n",
      "1\n",
      "2\n",
      "3\n",
      "4\n",
      "5\n",
      "6\n",
      "7\n",
      "8\n",
      "9\n"
     ]
    }
   ],
   "source": [
    "# Don’t do this:\n",
    "for item in [1, 2, 3, 4, 5, 6, 7, 8, 9, 10]:\n",
    "    print(item)\n",
    "    \n",
    "# Do this:\n",
    "for item in range(10):\n",
    "    print(item)"
   ]
  },
  {
   "cell_type": "markdown",
   "metadata": {},
   "source": [
    "### Raising Exceptions"
   ]
  },
  {
   "cell_type": "markdown",
   "metadata": {},
   "source": [
    "#### Frequently Raised Exceptions"
   ]
  },
  {
   "cell_type": "markdown",
   "metadata": {},
   "source": [
    "#### Leverage finally to Handle Exceptions"
   ]
  },
  {
   "cell_type": "markdown",
   "metadata": {},
   "source": [
    "#### Create Your Own Exception Class"
   ]
  },
  {
   "cell_type": "markdown",
   "metadata": {},
   "source": [
    "#### Handle Only Specific Exceptions"
   ]
  },
  {
   "cell_type": "markdown",
   "metadata": {},
   "source": [
    "#### Watch Out for Third-Party Exceptions"
   ]
  },
  {
   "cell_type": "markdown",
   "metadata": {},
   "source": [
    "#### Prefer to Have Minimum Code Under try"
   ]
  },
  {
   "cell_type": "markdown",
   "metadata": {},
   "source": [
    "## End."
   ]
  }
 ],
 "metadata": {
  "kernelspec": {
   "display_name": "Python 3.10.5 64-bit",
   "language": "python",
   "name": "python3"
  },
  "language_info": {
   "codemirror_mode": {
    "name": "ipython",
    "version": 3
   },
   "file_extension": ".py",
   "mimetype": "text/x-python",
   "name": "python",
   "nbconvert_exporter": "python",
   "pygments_lexer": "ipython3",
   "version": "3.10.5"
  },
  "orig_nbformat": 4,
  "vscode": {
   "interpreter": {
    "hash": "74af3d2f25f1e46ebd2903d59225d79e4675ec224d56c01fc30cd168c2010d53"
   }
  }
 },
 "nbformat": 4,
 "nbformat_minor": 2
}
