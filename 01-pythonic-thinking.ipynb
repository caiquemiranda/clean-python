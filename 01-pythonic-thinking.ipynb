{
 "cells": [
  {
   "attachments": {},
   "cell_type": "markdown",
   "metadata": {},
   "source": [
    "### Pensamento pytônico"
   ]
  },
  {
   "attachments": {},
   "cell_type": "markdown",
   "metadata": {},
   "source": [
    "O que diferencia o Python de outras linguagens é que é uma linguagem\n",
    "simples com muita profundidade. Por ser simples, é muito mais importante\n",
    "escrever o código com cautela, especialmente em um grande projeto, porque\n",
    "é fácil o código se tornar complexo e inchado. Python tem uma filosofia\n",
    "chamada Zen of Python, que enfatiza a simplicidade sobre a complexidade."
   ]
  },
  {
   "attachments": {},
   "cell_type": "markdown",
   "metadata": {},
   "source": [
    "você aprenderá sobre algumas práticas comuns que\n",
    "podem ajudá-lo a tornar seu código Python mais legível e simples. Abordarei\n",
    "algumas práticas bem conhecidas, bem como algumas que podem não\n",
    "ser tão conhecidas. Ao escrever seu próximo projeto ou trabalhar em seu\n",
    "projeto atual, certifique-se de estar bem ciente dessas práticas do Python\n",
    "para poder melhorar seu código."
   ]
  },
  {
   "attachments": {},
   "cell_type": "markdown",
   "metadata": {},
   "source": [
    "---"
   ]
  },
  {
   "attachments": {},
   "cell_type": "markdown",
   "metadata": {},
   "source": [
    "<b>Observação:</b> No mundo Python, seguir a filosofia Zen of\n",
    "Python torna seu código “Pythonic”. Existem muitas práticas\n",
    "recomendadas na documentação oficial do Python para\n",
    "tornar seu código mais limpo e legível. A leitura do guia\n",
    "PEP8 certamente ajudará você a entender por que algumas\n",
    "práticas são recomendadas."
   ]
  },
  {
   "attachments": {},
   "cell_type": "markdown",
   "metadata": {},
   "source": [
    "---"
   ]
  },
  {
   "attachments": {},
   "cell_type": "markdown",
   "metadata": {},
   "source": [
    "#### Escrever código pytônico\n",
    "---"
   ]
  },
  {
   "attachments": {},
   "cell_type": "markdown",
   "metadata": {},
   "source": [
    "Python tem alguma documentação oficial chamada PEP8 que define as melhores\n",
    "práticas para escrever código Pythonic. Este guia de estilo evoluiu ao longo do tempo."
   ]
  },
  {
   "attachments": {},
   "cell_type": "markdown",
   "metadata": {},
   "source": [
    "Você pode conferir em https://www.python.org/dev/peps/pep-0008/."
   ]
  },
  {
   "attachments": {},
   "cell_type": "markdown",
   "metadata": {},
   "source": [
    "#### Nomenclatura\n",
    "---"
   ]
  },
  {
   "attachments": {},
   "cell_type": "markdown",
   "metadata": {},
   "source": [
    "Como desenvolvedor, trabalhei com diferentes linguagens como Java, NodeJS,\n",
    "Perl e Golang. Todas essas linguagens têm convenções de nomenclatura para variáveis,\n",
    "funções, classes e assim por diante. Python também recomenda o uso de convenções de\n",
    "nomenclatura. Discutirei algumas das convenções de nomenclatura nesta seção que você\n",
    "deve seguir ao escrever o código Python."
   ]
  },
  {
   "attachments": {},
   "cell_type": "markdown",
   "metadata": {},
   "source": [
    "##### Variáveis e Funções\n",
    "---"
   ]
  },
  {
   "attachments": {},
   "cell_type": "markdown",
   "metadata": {},
   "source": [
    "Você deve nomear funções e variáveis em letras minúsculas com as palavras separados por sublinhados, pois isso melhorará a legibilidade."
   ]
  },
  {
   "cell_type": "code",
   "execution_count": null,
   "metadata": {},
   "outputs": [],
   "source": [
    "# Nomes de variáveis\n",
    "\n",
    "nomes = \" Python \"                      # nome variável\n",
    "cargo = \" Engenheiro de Software \"  \n",
    "lista_de_países_populados = []          # nome variável com sublinhado"
   ]
  },
  {
   "attachments": {},
   "cell_type": "markdown",
   "metadata": {},
   "source": [
    "Você também deve considerar o uso de nomes de métodos não desconfigurados em seu código e o uso de um sublinhado (_) ou dois sublinhados (__)."
   ]
  },
  {
   "cell_type": "code",
   "execution_count": null,
   "metadata": {},
   "outputs": [],
   "source": [
    "# Nomes não desconfigurados\n",
    "\n",
    "_livros = {}        # nome da variável para definir private\n",
    "__dict = []         # evita confusão de nomes com python in-build lib"
   ]
  },
  {
   "attachments": {},
   "cell_type": "markdown",
   "metadata": {},
   "source": [
    "Você deve usar um sublinhado (_) como prefixo para a variável interna de uma classe, onde você não deseja que uma classe externa acesse a variável. Esta é apenas uma convenção; O Python não torna uma variável com um único prefixo de sublinhado privado."
   ]
  },
  {
   "attachments": {},
   "cell_type": "markdown",
   "metadata": {},
   "source": [
    "Python também tem uma convenção para funções,"
   ]
  },
  {
   "cell_type": "code",
   "execution_count": null,
   "metadata": {},
   "outputs": [],
   "source": [
    "# Nomes de funções normais\n",
    "\n",
    "# nome da função com um único sublinhado \n",
    "def get_dados():\n",
    "    pass\n",
    "\n",
    "def calcular_dados():\n",
    "    ..."
   ]
  },
  {
   "attachments": {},
   "cell_type": "markdown",
   "metadata": {},
   "source": [
    "As mesmas regras se aplicam a métodos privados e métodos onde você deseja\n",
    "para evitar confusão de nomes com funções Python integradas"
   ]
  },
  {
   "cell_type": "code",
   "execution_count": null,
   "metadata": {},
   "outputs": [],
   "source": [
    "# Nomes de Função para Representar Métodos Privados e Nonmangling\n",
    "\n",
    "# Método privado com sublinhado único \n",
    "def _get_dados():\n",
    "    pass\n",
    "\n",
    "# sublinhado duplo para evitar confusão de nomes com outras funções in-build\n",
    "def __path():\n",
    "    pass"
   ]
  },
  {
   "cell_type": "markdown",
   "metadata": {},
   "source": [
    "Além de seguir essas regras de nomenclatura, é importante usar nomes\n",
    "específicos em vez de nomes obscuros para suas funções ou variáveis."
   ]
  },
  {
   "attachments": {},
   "cell_type": "markdown",
   "metadata": {},
   "source": [
    "Vamos considerar uma função que retorna um objeto de usuário quando fornecido com um ID de usuário"
   ]
  },
  {
   "cell_type": "code",
   "execution_count": null,
   "metadata": {},
   "outputs": [],
   "source": [
    "# Nomes de função\n",
    "\n",
    "# Caminho errado\n",
    "def get_info_usuario(id):\n",
    "    \n",
    "    db = get_db_conexao(id)\n",
    "    usuario = executar_consulta_para_usuario(id)\n",
    "    \n",
    "    return usuario\n",
    "\n",
    "# Caminho certo \n",
    "def get_usuario_por(usuario_id):\n",
    "    \n",
    "    db = get_db_conexao()\n",
    "    usuario = executar_consulta_para_usuario(usuario_id)\n",
    "    \n",
    "    return usuario"
   ]
  },
  {
   "attachments": {},
   "cell_type": "markdown",
   "metadata": {},
   "source": [
    "Aqui, a segunda função, get_user_by, garante que você esteja usando o mesmo\n",
    "vocabulário para passar uma variável, o que fornece o contexto correto para a função. A\n",
    "primeira função, get_user_info, é ambígua porque o parâmetro id pode significar qualquer\n",
    "coisa. É um ID de índice de tabela de usuário ou um ID de pagamento de usuário ou\n",
    "qualquer outro ID? Esse tipo de código pode criar confusão para outros desenvolvedores\n",
    "que usam sua API. Para corrigir isso, mudei duas coisas na segunda função; Alterei o\n",
    "nome da função e passei um nome de argumento, o que torna o código muito mais\n",
    "legível. Ao ler o segundo função, você sabe imediatamente o propósito da função e o esperado valor da função."
   ]
  },
  {
   "attachments": {},
   "cell_type": "markdown",
   "metadata": {},
   "source": [
    "Como desenvolvedor, é sua responsabilidade pensar cuidadosamente ao nomear\n",
    "suas variáveis e funções para tornar o código legível para outros desenvolvedores."
   ]
  },
  {
   "attachments": {},
   "cell_type": "markdown",
   "metadata": {},
   "source": [
    "##### Classes\n",
    "---"
   ]
  },
  {
   "attachments": {},
   "cell_type": "markdown",
   "metadata": {},
   "source": [
    "O nome das classes deve estar em camel case como na maioria das outras linguagens. "
   ]
  },
  {
   "cell_type": "code",
   "execution_count": null,
   "metadata": {},
   "outputs": [],
   "source": [
    "# Nomes de classe\n",
    "\n",
    "class InformacaoUsuario:\n",
    "    \n",
    "    def get_usuario(id):\n",
    "        \n",
    "        db = get_db_conexao()\n",
    "        usuario = executar_consulta_para_usuario(id)\n",
    "        \n",
    "        return user"
   ]
  },
  {
   "attachments": {},
   "cell_type": "markdown",
   "metadata": {},
   "source": [
    "##### Constantes\n",
    "---"
   ]
  },
  {
   "attachments": {},
   "cell_type": "markdown",
   "metadata": {},
   "source": [
    "Você deve definir nomes de constantes com letras maiúsculas."
   ]
  },
  {
   "cell_type": "code",
   "execution_count": null,
   "metadata": {},
   "outputs": [],
   "source": [
    "# Nomes constantes\n",
    "\n",
    "TOTAL = 42\n",
    "TEMPO = 7\n",
    "LIMITE_MAX = 10"
   ]
  },
  {
   "attachments": {},
   "cell_type": "markdown",
   "metadata": {},
   "source": [
    "##### Argumentos de função e método\n",
    "---"
   ]
  },
  {
   "attachments": {},
   "cell_type": "markdown",
   "metadata": {},
   "source": [
    "Argumentos de funções e métodos devem seguir as mesmas regras que variáveis\n",
    "e nomes de métodos. Um método de classe tem self como o primeiro argumento de palavrachave\n",
    "em comparação com funções que não passam self como parâmetro de\n",
    "palavra-chave."
   ]
  },
  {
   "cell_type": "code",
   "execution_count": null,
   "metadata": {},
   "outputs": [],
   "source": [
    "# Argumentos de função e método\n",
    "\n",
    "def calcular_imposto(valor, imposto_anual):\n",
    "    pass\n",
    "\n",
    "class Jogador:\n",
    "    \n",
    "    def get_total_pontuacao(self, nome_jogador):\n",
    "        pass"
   ]
  },
  {
   "attachments": {},
   "cell_type": "markdown",
   "metadata": {},
   "source": [
    "#### Expressões e declarações em seu código\n",
    "---"
   ]
  },
  {
   "attachments": {},
   "cell_type": "markdown",
   "metadata": {},
   "source": [
    "Em algum momento, você pode ter tentado escrever código de maneira inteligente para\n",
    "economizar algumas linhas ou impressionar seus colegas. No entanto, há custos para\n",
    "escrever um código inteligente: legibilidade e simplicidade."
   ]
  },
  {
   "cell_type": "code",
   "execution_count": null,
   "metadata": {},
   "outputs": [],
   "source": [
    "# Classificar um dicionário aninhado\n",
    "\n",
    "usuarios = [{\"primeiro_nome\":\"Caique\", \"Idade\":30},\n",
    "            {\"primeiro_nome\":\"Ruan\", \"Idade\":16},\n",
    "            {\"primeiro_nome\":\"Maria\", \"Idade\":12}]\n",
    "\n",
    "usuarios = sorted(usuarios, key=lambda user: user[\"primeiro_nome\"].lower())"
   ]
  },
  {
   "attachments": {},
   "cell_type": "markdown",
   "metadata": {},
   "source": [
    "Qual é o problema com esse código?"
   ]
  },
  {
   "attachments": {},
   "cell_type": "markdown",
   "metadata": {},
   "source": [
    "Bem, você está classificando este dicionário aninhado por first_name usando um lambda em uma linha, o que faz com que pareça uma maneira inteligente de classificar o dicionário em vez de usar um loop."
   ]
  },
  {
   "attachments": {},
   "cell_type": "markdown",
   "metadata": {},
   "source": [
    "No entanto, não é fácil entender esse código à primeira vista, especialmente para novos desenvolvedores, porque os lambdas não são um conceito fácil de entender por causa de sua sintaxe peculiar. Claro, você está salvando linhas aqui usando um lambda porque permite que você classifique o dicionário de maneira inteligente; no entanto, isso não torna esse código correto ou legível. Este código não resolve problemas como chaves ausentes ou se o dicionário está correto ou não."
   ]
  },
  {
   "attachments": {},
   "cell_type": "markdown",
   "metadata": {},
   "source": [
    "Vamos reescrever este código usando uma função e tentar tornar o código mais legível e correto; a função verificará todos os valores inesperados e é muito mais simples de escrever."
   ]
  },
  {
   "cell_type": "code",
   "execution_count": null,
   "metadata": {},
   "outputs": [],
   "source": [
    "# Dicionário classificado por função\n",
    "\n",
    "usuarios = [{\"primeiro_nome\":\"Caique\", \"Idade\":30},\n",
    "            {\"primeiro_nome\":\"Ruan\", \"Idade\":16},\n",
    "            {\"primeiro_nome\":\"Maria\", \"Idade\":12}]\n",
    "\n",
    "def get_nome_usuario(usuarios):\n",
    "    \"\"\" Obter o nome do usuário em letras minúsculas \"\"\"\n",
    "    \n",
    "    return usuarios[\"primeiro_nome\"].lower()\n",
    "\n",
    "def get_ordenar_dicionario(usuarios):\n",
    "    \"\"\" Ordenar o dicionário aninhado \"\"\"\n",
    "    \n",
    "    if not isinstance(usuarios, dict):\n",
    "        raise ValueError(\"Não é um dicionário correto\")\n",
    "    \n",
    "    if not len(usuarios):\n",
    "        raise ValueError(\"Dicionário vazio.\")\n",
    "    \n",
    "    usuarios_por_nome = sorted(usuarios, key=get_nome_usuario)\n",
    "    \n",
    "    return usuarios_por_nome    "
   ]
  },
  {
   "attachments": {},
   "cell_type": "markdown",
   "metadata": {},
   "source": [
    "Como você pode ver, esse código verifica todos os valores inesperados possíveis e é muito mais legível do que o código de uma linha anterior. O código de uma linha economiza linhas, mas injeta muita complexidade em seu código. Isso não significa necessariamente que o código de uma linha seja ruim; o ponto que estou tentando enfatizar aqui é que, se o seu código de uma linha dificultar a leitura do código, evite-o."
   ]
  },
  {
   "attachments": {},
   "cell_type": "markdown",
   "metadata": {},
   "source": [
    "Você precisa tomar essas decisões conscientemente enquanto escreve o código. Às vezes, escrever código de uma linha torna seu código legível e às vezes não."
   ]
  },
  {
   "attachments": {},
   "cell_type": "markdown",
   "metadata": {},
   "source": [
    "Vamos considerar mais um exemplo, onde você está tentando ler um arquivo CSV e contar o número de linhas processadas pelo arquivo CSV. O código a seguir mostra por que é importante tornar seu código legível e como a nomenclatura desempenha um grande papel em tornar seu código legível."
   ]
  },
  {
   "attachments": {},
   "cell_type": "markdown",
   "metadata": {},
   "source": [
    "Quebrar o código na função auxiliar ajuda a tornar o código complexo legível e fácil de depurar quando você encontra um erro específico em seu código de produção."
   ]
  },
  {
   "cell_type": "code",
   "execution_count": null,
   "metadata": {},
   "outputs": [],
   "source": [
    "# Lendo um arquivo CSV\n",
    "\n",
    "import csv\n",
    "\n",
    "with open('funcionarios.csv', mode='r') as arquivo_csv:\n",
    "    \n",
    "    leitor_csv = csv.DictReader(arquivo_csv)\n",
    "    contador_linhas = 0\n",
    "    \n",
    "    for linha in leitor_csv:\n",
    "        if contador_linhas == 0:\n",
    "            print(f'Nome das colunas são: {\", \".join(linha)}')\n",
    "            contador_linhas += 1\n",
    "            \n",
    "            print(f'\\t{linha[\"nome\"]} salario: {linha[\"salario\"]}'\n",
    "                  f'e nasceu in {linha[\"mes aniversario\"]}.')\n",
    "        \n",
    "        contador_linhas += 1\n",
    "    \n",
    "    print(f'Processo {contador_linhas} linhas.')\n",
    "            "
   ]
  },
  {
   "attachments": {},
   "cell_type": "markdown",
   "metadata": {},
   "source": [
    "Aqui, o código está fazendo várias coisas na instrução with. Para torná-lo mais legível, você pode retirar o código com o salário do processo do arquivo CSV em uma função diferente para torná-lo menos propenso a erros. É difícil depurar esse tipo de código quando muitas coisas estão acontecendo em poucas linhas, então você deve certificar-se de ter objetivos e limites claros ao definir sua função"
   ]
  },
  {
   "cell_type": "code",
   "execution_count": null,
   "metadata": {},
   "outputs": [],
   "source": [
    "# Lendo um arquivo CSV, com código mais legível\n",
    "\n",
    "import csv\n",
    "\n",
    "    \n",
    "def processar_salario(leitor_csv):\n",
    "    \"\"\" Processar salário do usuário do arquivo csv. \"\"\"\n",
    "    \n",
    "    for linha in leitor_csv:\n",
    "        if contador_linhas == 0:\n",
    "            print(f'Nome das colunas são: {\", \".join(linha)}')\n",
    "            contador_linhas += 1\n",
    "        \n",
    "        print(f'\\t{linha[\"nome\"]} salario: {linha[\"salario\"]}')    \n",
    "        contador_linhas += 1\n",
    "    \n",
    "    print(f'Processo {contador_linhas} linhas.')\n",
    "    \n",
    "with open('funcionarios.txt', mode='r') as arquivo_csv:\n",
    "    csv_leitor = csv.DictReader(arquivo_csv)\n",
    "    contador_linhas = 0\n",
    "\n",
    "    processar_salario(leitor_csv)\n"
   ]
  },
  {
   "attachments": {},
   "cell_type": "markdown",
   "metadata": {},
   "source": [
    "Aqui você criou uma função auxiliar em vez de escrever tudo na instrução with. Isso deixa claro para o leitor o que realmente a função `processar_salario` faz. Se você deseja lidar com uma exceção específica ou deseja ler mais dados de um arquivo CSV, pode dividir ainda mais essa função para seguir o princípio de responsabilidade única."
   ]
  },
  {
   "attachments": {},
   "cell_type": "markdown",
   "metadata": {},
   "source": [
    "#### Adote a maneira Pythonic de escrever código\n",
    "---"
   ]
  },
  {
   "attachments": {},
   "cell_type": "markdown",
   "metadata": {},
   "source": [
    "O PEP8 tem algumas recomendações a seguir ao escrever seu código que tornarão seu código Python muito mais limpo e legível. Vejamos algumas dessas práticas."
   ]
  },
  {
   "attachments": {},
   "cell_type": "markdown",
   "metadata": {},
   "source": [
    "##### Prefira junção em vez de concatenação de string no local\n",
    "---"
   ]
  },
  {
   "attachments": {},
   "cell_type": "markdown",
   "metadata": {},
   "source": [
    "Sempre que estiver preocupado com o desempenho do seu código, use o `\" \".join()` em vez de concatenação de string no local, como em a += b ou a = a + b. O método `\"\".join()` garante uma concatenação de tempo mais enxuta em várias implementações do Python."
   ]
  },
  {
   "attachments": {},
   "cell_type": "markdown",
   "metadata": {},
   "source": [
    "A razão para isso é que, quando você usa join, o Python aloca memória para a string unida apenas uma vez, mas quando você concatena as strings, o Python precisa alocar nova memória para cada concatenação porque a string do Python é imutável."
   ]
  },
  {
   "cell_type": "code",
   "execution_count": null,
   "metadata": {},
   "outputs": [],
   "source": [
    "# Usando o método join\n",
    "\n",
    "primeiro_nome = 'Caique'\n",
    "ultimo_nome = 'Miranda'\n",
    "\n",
    "# Não é uma maneira recomendada de concatenar string\n",
    "nome_completo = primeiro_nome + ' ' + ultimo_nome\n",
    "\n",
    "# Mais desempenho e melhor legibilidade\n",
    "\" \".join([primeiro_nome, ultimo_nome])"
   ]
  },
  {
   "attachments": {},
   "cell_type": "markdown",
   "metadata": {},
   "source": [
    "##### Considere usar é e não é sempre que precisar comparar com nenhum\n",
    "---"
   ]
  },
  {
   "attachments": {},
   "cell_type": "markdown",
   "metadata": {},
   "source": [
    "Sempre use is ou not para comparação com None. Tenha isso em mente ao escrever código como o seguinte:"
   ]
  },
  {
   "cell_type": "code",
   "execution_count": null,
   "metadata": {},
   "outputs": [],
   "source": [
    "if val:        # Funcionará quando val não for None"
   ]
  },
  {
   "attachments": {},
   "cell_type": "markdown",
   "metadata": {},
   "source": [
    "Certifique-se de ter em mente que você está considerando val como None e não algum outro tipo de contêiner, como dict ou set. Vamos olhar mais para entender onde esse tipo de código pode surpreendê-lo."
   ]
  },
  {
   "attachments": {},
   "cell_type": "markdown",
   "metadata": {},
   "source": [
    "Na linha de código anterior, val é um dicionário vazio; no entanto, val é considerado falso, o que pode não ser desejado em seu código, portanto, tenha cuidado ao escrever esse tipo de código."
   ]
  },
  {
   "cell_type": "code",
   "execution_count": null,
   "metadata": {},
   "outputs": [],
   "source": [
    "# Não faça isso:\n",
    "\n",
    "val = {}\n",
    "if val:        # Isso será falso no contexto do python"
   ]
  },
  {
   "attachments": {},
   "cell_type": "markdown",
   "metadata": {},
   "source": [
    "Em vez disso, escreva o código o mais explícito possível para tornar seu código menos propenso ao erro. "
   ]
  },
  {
   "cell_type": "code",
   "execution_count": null,
   "metadata": {},
   "outputs": [],
   "source": [
    "# Faça isso:\n",
    "\n",
    "if val is not None:    # Certifique-se de que apenas o valor None será falso"
   ]
  },
  {
   "attachments": {},
   "cell_type": "markdown",
   "metadata": {},
   "source": [
    "##### Prefiro usar não é Em vez de não … é\n",
    "---"
   ]
  },
  {
   "attachments": {},
   "cell_type": "markdown",
   "metadata": {},
   "source": [
    "Não há diferença entre usar `is not` e usar `not... is`. No entanto, a sintaxe `is not` é mais legível em comparação com `not... is`."
   ]
  },
  {
   "cell_type": "code",
   "execution_count": null,
   "metadata": {},
   "outputs": [],
   "source": [
    "# Não faça isso:\n",
    "\n",
    "if not val is None:"
   ]
  },
  {
   "cell_type": "code",
   "execution_count": null,
   "metadata": {},
   "outputs": [],
   "source": [
    "# Faça isso:\n",
    "\n",
    "if val is not None:"
   ]
  },
  {
   "attachments": {},
   "cell_type": "markdown",
   "metadata": {},
   "source": [
    "##### Considere o uso de uma função em vez de um Lambda quando vinculando a um identificador\n",
    "---"
   ]
  },
  {
   "attachments": {},
   "cell_type": "markdown",
   "metadata": {},
   "source": [
    "Ao atribuir uma expressão lambda a um identificador específico, considere o uso de uma função. lambda é uma palavra-chave em Python para executar operações de uma linha; no entanto, usar lambda para escrever uma função pode não ser uma escolha tão boa quanto escrever uma função usando def."
   ]
  },
  {
   "cell_type": "code",
   "execution_count": null,
   "metadata": {},
   "outputs": [],
   "source": [
    "# Não faça isso:\n",
    "\n",
    "quadrado = lambda x: x * x"
   ]
  },
  {
   "cell_type": "code",
   "execution_count": null,
   "metadata": {},
   "outputs": [],
   "source": [
    "# Faça isso:\n",
    "\n",
    "def quadrado(val):\n",
    "    return val * val"
   ]
  },
  {
   "attachments": {},
   "cell_type": "markdown",
   "metadata": {},
   "source": [
    "O objeto de função def quadrado(val) é mais útil para representação de string e traceback do que o <lambda> genérico. Esse tipo de uso elimina a utilidade dos lambdas. Considere o uso de lambdas em expressões maiores para não afetar a legibilidade do código."
   ]
  },
  {
   "attachments": {},
   "cell_type": "markdown",
   "metadata": {},
   "source": [
    "##### Seja consistente com a declaração de retorno\n",
    "---"
   ]
  },
  {
   "attachments": {},
   "cell_type": "markdown",
   "metadata": {},
   "source": [
    "Se for esperado que a função retorne um valor, certifique-se de que todos os caminhos de execução dessa função retornem o valor. É uma boa prática garantir que você tenha uma expressão de retorno em todos os lugares onde sua função sai. Mas se espera-se que uma função simplesmente execute uma ação sem retornar um valor, o Python retorna implicitamente None como o padrão da função."
   ]
  },
  {
   "cell_type": "code",
   "execution_count": null,
   "metadata": {},
   "outputs": [],
   "source": [
    "# Não faça isso:\n",
    "\n",
    "def calcular_interesse(principio, taxa, tempo): \n",
    "    if principio > 0: \n",
    "    \n",
    "        return (principio * tempo * taxa) / 100\n",
    "\n",
    "def calcular_interesse(principio, taxa, tempo): \n",
    "    if principio < 0: \n",
    "    \n",
    "        return (principio * tempo * taxa) / 100"
   ]
  },
  {
   "cell_type": "code",
   "execution_count": null,
   "metadata": {},
   "outputs": [],
   "source": [
    "# Faça isso:\n",
    "\n",
    "def calcular_interesse(principio, taxa, tempo): \n",
    "    if principio > 0: \n",
    "    \n",
    "        return (principio * tempo * taxa) / 100\n",
    "    else:\n",
    "        return None\n",
    "\n",
    "def calcular_interesse(principio, taxa, tempo): \n",
    "    if principio < 0: \n",
    "    \n",
    "        return None\n",
    "    else:\n",
    "        return (principio * tempo * taxa) / 100"
   ]
  },
  {
   "attachments": {},
   "cell_type": "markdown",
   "metadata": {},
   "source": [
    "##### Prefira usar `““.startswith()` e `””.endswith()`\n",
    "---"
   ]
  },
  {
   "attachments": {},
   "cell_type": "markdown",
   "metadata": {},
   "source": [
    "Quando precisar verificar prefixos ou sufixos, considere o uso de \"\". startswith() e \"\".endswith() em vez de fatiar. slice é um método realmente útil para fatiar uma string, mas pode obter melhor desempenho quando você está fatiando uma string grande ou executando operações de string. No entanto, se você estiver fazendo algo tão simples quanto verificar um prefixo ou sufixo, vá para startswith ou endswith porque isso torna óbvio para o leitor que você está verificando um prefixo ou sufixo em uma string. Em outras palavras, torna seu código mais legível e limpo."
   ]
  },
  {
   "cell_type": "code",
   "execution_count": null,
   "metadata": {},
   "outputs": [],
   "source": [
    "# Não faça isso:\n",
    "\n",
    "dados = 'Oi, o que está fazendo?'\n",
    "if dados.startswith('Oi'):\n",
    "    pass "
   ]
  },
  {
   "cell_type": "code",
   "execution_count": null,
   "metadata": {},
   "outputs": [],
   "source": [
    "# Faça isso:\n",
    "\n",
    "dados = 'Oi, o que está fazendo?'\n",
    "if dados[:2] == 'Oi':\n",
    "    pass"
   ]
  },
  {
   "attachments": {},
   "cell_type": "markdown",
   "metadata": {},
   "source": [
    "##### Use o método `isinstance()` em vez de `type()` para comparação\n",
    "---"
   ]
  },
  {
   "attachments": {},
   "cell_type": "markdown",
   "metadata": {},
   "source": [
    "Ao comparar os tipos de dois objetos, considere usar isinstance() em vez de type porque isinstance() é verdadeiro para subclasses. Considere um cenário em que você está passando uma estrutura de dados que é a subclasse de um dict como orderdict. type() falhará para esse tipo específico de estrutura de dados; no entanto, isinstance() reconhecerá que é a subclasse de dict."
   ]
  },
  {
   "cell_type": "code",
   "execution_count": null,
   "metadata": {},
   "outputs": [],
   "source": [
    "# Não faça isso:\n",
    "\n",
    "idade_usuarios = {'Caique': 30,\n",
    "                  'Mateus': 22,\n",
    "                  'Paola': 32}\n",
    "\n",
    "type(idade_usuarios) == dict: ..."
   ]
  },
  {
   "cell_type": "code",
   "execution_count": null,
   "metadata": {},
   "outputs": [],
   "source": [
    "# Faça isso:\n",
    "\n",
    "idade_usuarios = {'Caique': 30,\n",
    "                  'Mateus': 22,\n",
    "                  'Paola': 32}\n",
    "\n",
    "if isinstance(idade_usuarios, dict): ..."
   ]
  },
  {
   "attachments": {},
   "cell_type": "markdown",
   "metadata": {},
   "source": [
    "##### Maneira Pytonica de Comparar Valores Booleanos\n",
    "---"
   ]
  },
  {
   "attachments": {},
   "cell_type": "markdown",
   "metadata": {},
   "source": [
    "Existem várias maneiras de comparar valores booleanos em Python."
   ]
  },
  {
   "cell_type": "code",
   "execution_count": null,
   "metadata": {},
   "outputs": [],
   "source": [
    "# Não faça isso:\n",
    "\n",
    "vazio = []\n",
    "\n",
    "if vazio = False\n",
    "if vazio == False: ...\n",
    "if vazio is False: ..."
   ]
  },
  {
   "cell_type": "code",
   "execution_count": null,
   "metadata": {},
   "outputs": [],
   "source": [
    "# Faça isso:\n",
    "\n",
    "vazio = False\n",
    "if vazio: ..."
   ]
  },
  {
   "attachments": {},
   "cell_type": "markdown",
   "metadata": {},
   "source": [
    "##### Escreva código explícito para o gerenciador de contexto\n",
    "---"
   ]
  },
  {
   "attachments": {},
   "cell_type": "markdown",
   "metadata": {},
   "source": [
    "Ao escrever o código na instrução with, considere o uso de uma função para fazer qualquer operação diferente de Adquire e Release."
   ]
  },
  {
   "cell_type": "code",
   "execution_count": null,
   "metadata": {},
   "outputs": [],
   "source": [
    "# Não faça isso:\n",
    "\n",
    "class NovoProtocolo:\n",
    "    \n",
    "    def __init__(self, host, porta, dados):\n",
    "        \n",
    "        self.host = host\n",
    "        self.porta = porta\n",
    "        self.dados = dados\n",
    "        \n",
    "    def __enter__(self):\n",
    "        \n",
    "        self.cliente = Socket()\n",
    "        self._conexao.connect((self.host,\n",
    "                               self.porta))\n",
    "        self.trnasferencia_dados(dados)\n",
    "        \n",
    "    def __exit__(self, excecao, valor, rastreamento):\n",
    "        \n",
    "        self._receber_dados()\n",
    "        self._cliente.close()\n",
    "        \n",
    "    def _transferencia_dados(self):\n",
    "        \n",
    "        ...\n",
    "        \n",
    "    def receba_dados(self):\n",
    "        \n",
    "        ...\n",
    "\n",
    "con = NovoProtocolo(host, porta, dados)\n",
    "with con:\n",
    "    transferencia_dados()"
   ]
  },
  {
   "cell_type": "code",
   "execution_count": null,
   "metadata": {},
   "outputs": [],
   "source": [
    "# Faça isso:\n",
    "\n",
    "class NovoProtocolo:\n",
    "    \n",
    "    def __init__(self, host, porta):\n",
    "        \n",
    "        self.host = host\n",
    "        self.porta = porta\n",
    "        \n",
    "    def __enter__(self):\n",
    "        \n",
    "        self.cliente = Socket()\n",
    "        self._conexao.connect((self.host,\n",
    "                               self.porta))\n",
    "        \n",
    "    def __exit__(self, excecao, valor, rastreamento):\n",
    "        \n",
    "        self._cliente.close()\n",
    "        \n",
    "    def _transferencia_dados(self, carga):\n",
    "        \n",
    "        ...\n",
    "        \n",
    "    def receba_dados(self):\n",
    "        \n",
    "        ...\n",
    "        \n",
    "\n",
    "con = NovoProtocolo(host, porta)\n",
    "with con:\n",
    "    transferencia_dados()"
   ]
  },
  {
   "attachments": {},
   "cell_type": "markdown",
   "metadata": {},
   "source": [
    "Na segunda instrução, os métodos `__enter__` e `__exit__` do Python fazem algumas coisas além de abrir e fechar a conexão. As ferramentas Linting tornam você muito mais produtivo como desenvolvedor porque eles economizam muito tempo procurando problemas em tempo de execução. Existem várias ferramentas de linting disponíveis para Python. Algumas das ferramentas lidam com um É melhor ser explícito e escrever diferentes funções para fazer as outras operações que não estão adquirindo e fechando a conexão."
   ]
  },
  {
   "attachments": {},
   "cell_type": "markdown",
   "metadata": {},
   "source": [
    "##### Use ferramentas Linting para melhorar o código Python\n",
    "---"
   ]
  },
  {
   "attachments": {},
   "cell_type": "markdown",
   "metadata": {},
   "source": [
    "Linters de código são ferramentas importantes para formatar seu código de forma consistente. Ter um formato de código consistente em um projeto é valioso."
   ]
  },
  {
   "attachments": {},
   "cell_type": "markdown",
   "metadata": {},
   "source": [
    "As ferramentas Linting basicamente resolvem esses problemas para você: \n",
    "\n",
    "- Erros de sintaxe\n",
    "- Estrutura como variáveis não utilizadas ou passagem de argumentos corretos para a função\n",
    "- Apontar violações das diretrizes do PEP8"
   ]
  },
  {
   "attachments": {},
   "cell_type": "markdown",
   "metadata": {},
   "source": [
    "As ferramentas Linting tornam você muito mais produtivo como desenvolvedor porque eles economizam muito tempo procurando problemas em tempo de execução. Existem várias ferramentas de linting disponíveis para Python. Algumas das ferramentas lidam com um parte específica do linting, como o estilo docstring de qualidade de código, e ferramentas populares de liniting python, como flak8/pylint, verificam todas as regras PEP8 e ferramentas como mypy verificam especificamente a digitação python."
   ]
  },
  {
   "attachments": {},
   "cell_type": "markdown",
   "metadata": {},
   "source": [
    "Você pode integrar todos eles em seu código ou usar um que cubra as verificações padrão para garantir que está seguindo o guia de estilo PEP8. Os mais notáveis estão entre eles Flake8 e Pylint. Seja qual for a ferramenta que você escolher, certifique-se de que ela esteja de acordo com as regras do PEP8."
   ]
  },
  {
   "attachments": {},
   "cell_type": "markdown",
   "metadata": {},
   "source": [
    "Existem alguns recursos a serem procurados nas ferramentas de linting: \n",
    "\n",
    "- Adesão às regras PEP8\n",
    "- Ordenação de importações\n",
    "- Nomenclatura (convenção de nomenclatura do Python para variáveis, funções, classes, módulos, arquivos, etc.)\n",
    "- Importações circulares\n",
    "- Complexidade do código (verifique a complexidade da função observando o número de linhas, loops e outros parâmetros)\n",
    "- Verificador ortográfico\n",
    "- Verificações no estilo docstring"
   ]
  },
  {
   "attachments": {},
   "cell_type": "markdown",
   "metadata": {},
   "source": [
    "Existem diferentes maneiras de executar linters.\n",
    "\n",
    "- Na hora da programação usando um IDE\n",
    "- No momento do commit, usando ferramentas de pré-commit\n",
    "- No momento do CI, integrando-se com Jenkins, CircleCI ..."
   ]
  },
  {
   "attachments": {},
   "cell_type": "markdown",
   "metadata": {},
   "source": [
    "<b>Observação</b> Estas são algumas das práticas comuns que definitivamente melhorarão seu código. Se você quiser aproveitar ao máximo as boas práticas do Python, dê uma olhada na documentação oficial do PEP8. Além disso, ler um bom código no GitHub ajudará você a entender como escrever um código Python melhor."
   ]
  },
  {
   "attachments": {},
   "cell_type": "markdown",
   "metadata": {},
   "source": [
    "#### Usando Docstrings\n",
    "---"
   ]
  },
  {
   "attachments": {},
   "cell_type": "markdown",
   "metadata": {},
   "source": [
    "Docstrings são uma maneira poderosa de documentar seu código em Python. Docstrings geralmente são escritas no início de métodos, classes e módulos. Uma docstring torna-se o atributo especial _doc__ desse objeto."
   ]
  },
  {
   "attachments": {},
   "cell_type": "markdown",
   "metadata": {},
   "source": [
    "A linguagem oficial do Python recomenda o uso de \"\"\"aspas triplas\"\"\" para escrever docstrings. Você pode encontrar essas práticas na documentação oficial do PEP8. Vamos falar rapidamente sobre algumas práticas recomendadas para escrever docstrings em seu código Python."
   ]
  },
  {
   "cell_type": "code",
   "execution_count": null,
   "metadata": {},
   "outputs": [],
   "source": [
    "# Função com uma Docstring\n",
    "\n",
    "def get_numero_primo(): \n",
    "    \"\"\"Obtém a lista de números primos entre 1 e 100.\"\"\"\""
   ]
  },
  {
   "attachments": {},
   "cell_type": "markdown",
   "metadata": {},
   "source": [
    "Python recomenda uma maneira específica de escrever docstrings. Existem diferentes maneiras de escrever docstrings, que discutiremos mais adiante neste capítulo; no entanto, todos esses tipos diferentes seguem algumas regras comuns. "
   ]
  },
  {
   "attachments": {},
   "cell_type": "markdown",
   "metadata": {},
   "source": [
    "Python definiu as regras da seguinte forma: \n",
    "\n",
    "- As aspas triplas são usadas mesmo que a string caiba em uma linha. Essa prática é útil quando você deseja expandir.\n",
    "- Não deve haver nenhuma linha em branco antes ou depois da string entre aspas triplas\n",
    "- Use um ponto (.) para finalizar a instrução na docstring."
   ]
  },
  {
   "attachments": {},
   "cell_type": "markdown",
   "metadata": {},
   "source": [
    "Da mesma forma, as regras de docstring multilinha do Python podem ser aplicadas para escrever docstrings multilinha. Escrever docstrings em várias linhas é uma maneira de documentar seu código de maneira um pouco mais descritiva. Em vez de escrever comentários em cada linha, você pode escrever docstrings descritivas em seu código Python aproveitando as docstrings multilinha do Python. Isso também ajuda outras desenvolvedores encontrem a documentação no próprio código em vez de consultar a documentação que é longa e cansativa de ler."
   ]
  },
  {
   "cell_type": "code",
   "execution_count": null,
   "metadata": {},
   "outputs": [],
   "source": [
    "# Cadeia de documentos multilinha\n",
    "\n",
    "def obter_clima_api(url, local):\n",
    "    \"\"\"Obtenha o clima de um local específico.\n",
    "    \n",
    "    Chamando a API do tempo para verificar o clima usando a API do tempo e a\n",
    "    localização. Certifique-se de fornecer apenas o nome da cidade, os nomes do país e\n",
    "    do condado não serão aceitos e lançarão uma exceção se o nome da cidade não\n",
    "    for encontrado.\n",
    "    \n",
    "    :param url: URL da API para obter o clima.\n",
    "    :type url: str\n",
    "    :param local: Localização da cidade para obter o clima.\n",
    "    :type local: str\n",
    "    :return: Fornece as informações meteorológicas de determinado local.\n",
    "    :rtype: str\n",
    "    \"\"\""
   ]
  },
  {
   "attachments": {},
   "cell_type": "markdown",
   "metadata": {},
   "source": [
    "Há algumas coisas a serem observadas aqui.\n",
    "\n",
    "- A primeira linha é uma breve descrição da função ou aula\n",
    "- O final da linha tem um ponto(.)\n",
    "- Há uma lacuna d uma linha entre a breve descrição e o resumo em docstrings."
   ]
  },
  {
   "attachments": {},
   "cell_type": "markdown",
   "metadata": {},
   "source": [
    "Você pode escrever a mesma função se estiver usando o Python 3 com o módulo de Linting."
   ]
  },
  {
   "cell_type": "code",
   "execution_count": null,
   "metadata": {},
   "outputs": [],
   "source": [
    "# Docstring multilinha com Linting\n",
    "\n",
    "def obter_clima_api(url: str, local: str) -> str:\n",
    "    \"\"\"Obtenha o clima de um local específico.\n",
    "    \n",
    "    Chamando a API do tempo para verificar o clima usando a API do tempo e a\n",
    "    localização. Certifique-se de fornecer apenas o nome da cidade, os nomes do\n",
    "    país e do condado não serão aceitos e lançarão uma exceção se o nome da\n",
    "    cidade não for encontrado.\n",
    "    \"\"\""
   ]
  },
  {
   "attachments": {},
   "cell_type": "markdown",
   "metadata": {},
   "source": [
    "Você não precisa escrever as informações do parâmetro se estiver usando o tipo no código Python."
   ]
  },
  {
   "attachments": {},
   "cell_type": "markdown",
   "metadata": {},
   "source": [
    "os diferentes tipos de docstring, novos estilos de docstrings foram introduzidos ao longo dos anos por diferentes fontes. Não há maneira melhor ou recomendada de escrever uma docstring. No entanto, certifiquese de usar o mesmo estilo em todo o projeto para docstrings para que tenham formatação consistente."
   ]
  },
  {
   "attachments": {},
   "cell_type": "markdown",
   "metadata": {},
   "source": [
    "Existem quatro maneiras diferentes de escrever uma docstring."
   ]
  },
  {
   "cell_type": "code",
   "execution_count": null,
   "metadata": {},
   "outputs": [],
   "source": [
    "# Aqui está um exemplo de docstrings do Google:\n",
    "\n",
    "\"\"\" Chamando dado url. \n",
    "\n",
    "Parâmetros:\n",
    "    url (str): endereço url para ligar.\n",
    "\n",
    "Retorna:\n",
    "    dict: Resposta da url api.\n",
    "\"\"\""
   ]
  },
  {
   "cell_type": "code",
   "execution_count": null,
   "metadata": {},
   "outputs": [],
   "source": [
    "# Aqui está um exemplo de texto reestruturado (o Python oficial documentos recomendam isso):\n",
    "\n",
    "\"\"\" Chamando dado url.\n",
    "\n",
    ":param url: Url para chamar. \n",
    ":type url: str\n",
    ":returns: Resposta da url api.\n",
    ":rtype: dict\n",
    "\"\"\""
   ]
  },
  {
   "cell_type": "code",
   "execution_count": null,
   "metadata": {},
   "outputs": [],
   "source": [
    "# Aqui está um exemplo de docstrings NumPy/SciPy:\n",
    "\n",
    "\"\"\" Chamando dado url.\n",
    "\n",
    "Parameters\n",
    "----------\n",
    "url : str\n",
    "    URL para chamar..\n",
    "\n",
    "Returns\n",
    "-------\n",
    "dict\n",
    "    Resposta do url\n",
    "\"\"\""
   ]
  },
  {
   "cell_type": "code",
   "execution_count": null,
   "metadata": {},
   "outputs": [],
   "source": [
    "# Aqui está um exemplo de Epitexto:\n",
    "\n",
    "\"\"\" Chame uma API específica.\n",
    "\n",
    "@type url: str\n",
    "@param file_loc: Chamar o url fornecido.\n",
    "@rtype: dict\n",
    "@returns: Resposta da API chamada.\n",
    "\"\"\""
   ]
  },
  {
   "attachments": {},
   "cell_type": "markdown",
   "metadata": {},
   "source": [
    "##### Docstrings em nível de módulo\n",
    "---"
   ]
  },
  {
   "attachments": {},
   "cell_type": "markdown",
   "metadata": {},
   "source": [
    "Uma docstring no nível do módulo deve ser colocada no início do arquivo para\n",
    "descrever brevemente o uso do módulo. Esses comentários devem ser antes da\n",
    "importação também. Uma docstring de módulo deve se concentrar no objetivo do módulo, incluindo todos os métodos/classes do módulo, em vez de falar sobre um método ou\n",
    "classe específica. Você ainda pode especificar brevemente um método ou\n",
    "classe específica, se achar que o método ou classe tem algo que precisa ser\n",
    "conhecido em alto nível pelo cliente antes de usar o módulo"
   ]
  },
  {
   "cell_type": "code",
   "execution_count": null,
   "metadata": {},
   "outputs": [],
   "source": [
    "# Módulo Docstring\n",
    "\n",
    "\"\"\"\n",
    "Este módulo contém todas as solicitações relacionadas à rede. Este módulo\n",
    "verificará todas as exceções ao fazer as chamadas de rede e levantará\n",
    "exceções para qualquer exceção desconhecida.\n",
    "Certifique-se de que, ao usar este módulo, você trate essas exceções no\n",
    "código do cliente como: Exceção\n",
    "NetworkError para chamadas de rede.\n",
    "Exceção NetworkNotFound se a rede não for encontrada.\n",
    "\"\"\"\n",
    "\n",
    "import urllib3\n",
    "import json\n",
    "\n",
    "..."
   ]
  },
  {
   "attachments": {},
   "cell_type": "markdown",
   "metadata": {},
   "source": [
    "Você deve considerar fazer o seguinte ao escrever uma docstring para um\n",
    "módulo:\n",
    "\n",
    "- Escreva uma breve descrição do propósito do módulo.\n",
    "- Se você quiser especificar qualquer coisa que possa ser útil para\n",
    "o leitor saber sobre o módulo, como na Listagem 1-15, você pode\n",
    "adicionar informações de exceção, mas tome cuidado para não\n",
    "entrar em muitos detalhes.\n",
    "- Considere a docstring do módulo como uma forma de\n",
    "fornecer informações descritivas sobre o módulo, sem\n",
    "entrar nos detalhes de cada função ou operação\n",
    "de classe."
   ]
  },
  {
   "attachments": {},
   "cell_type": "markdown",
   "metadata": {},
   "source": [
    "##### Torne a classe Docstring descritiva\n",
    "---"
   ]
  },
  {
   "attachments": {},
   "cell_type": "markdown",
   "metadata": {},
   "source": [
    "A classe docstring é usada principalmente para descrever brevemente o uso da classe\n",
    "e seu objetivo geral. Vejamos alguns exemplos para ver como você pode escrever\n",
    "docstrings de classe."
   ]
  },
  {
   "cell_type": "code",
   "execution_count": null,
   "metadata": {},
   "outputs": [],
   "source": [
    "# Cadeia de documentação de linha única\n",
    "\n",
    "class Estudante:\n",
    "    \"\"\" Esta classe lida com ações executadas por um aluno. \"\"\"\n",
    "    \n",
    "    def _init__(self):\n",
    "        ..."
   ]
  },
  {
   "attachments": {},
   "cell_type": "markdown",
   "metadata": {},
   "source": [
    "Essa classe tem uma docstring de uma linha, que fala brevemente sobre a\n",
    "classe Aluno. Certifique-se de seguir todas as regras para uma linha, conforme\n",
    "descrito anteriormente."
   ]
  },
  {
   "attachments": {},
   "cell_type": "markdown",
   "metadata": {},
   "source": [
    "Vamos considerar a docstring multilinha para uma classe"
   ]
  },
  {
   "cell_type": "code",
   "execution_count": null,
   "metadata": {},
   "outputs": [],
   "source": [
    "# Cadeia de documentação de classe multilinha\n",
    "\n",
    "class Estudante:\n",
    "    \"\"\" Informações da classe do aluno.\n",
    "    \n",
    "    Esta classe lida com ações executadas por um aluno.\n",
    "    Esta classe fornece informações sobre o nome completo do aluno, idade, número\n",
    "    de matrícula e outras informações.\n",
    "    Uso:\n",
    "    import Estudante\n",
    "    estudante = estudante.Estudante() \n",
    "    estudante.get_nome()\n",
    "    >>> 678998\n",
    "    \"\"\"\n",
    "    \n",
    "    def _init__(self):\n",
    "        ..."
   ]
  },
  {
   "attachments": {},
   "cell_type": "markdown",
   "metadata": {},
   "source": [
    "Esta classe docstring é multilinha; escrevemos um pouco mais sobre o uso da classe Aluno e como usá-lo."
   ]
  },
  {
   "attachments": {},
   "cell_type": "markdown",
   "metadata": {},
   "source": [
    "##### Documentos de função\n",
    "---"
   ]
  },
  {
   "attachments": {},
   "cell_type": "markdown",
   "metadata": {},
   "source": [
    "As docstrings de função podem ser escritas após uma função ou no início de uma\n",
    "função. As docstrings de função concentram-se principalmente na descrição da\n",
    "operação da função e, se você não estiver usando digitação Python,"
   ]
  },
  {
   "cell_type": "code",
   "execution_count": null,
   "metadata": {},
   "outputs": [],
   "source": [
    "# Cadeia de documentação da função\n",
    "\n",
    "def e_numero_primo(numero):\n",
    "    \"\"\" Verifique o número primo.\n",
    "    \n",
    "    Verifique se o número fornecido é um número primo ou não, verificando\n",
    "    todos os números menos a raiz quadrada do número fornecido.\n",
    "    \n",
    "    :param number: Número dado para verificar se há primo.\n",
    "    :type number: int\n",
    "    :return: True se o número for primo, caso contrário, False.\n",
    "    :rtype: boolean\n",
    "    \"\"\"\n",
    "    "
   ]
  },
  {
   "attachments": {},
   "cell_type": "markdown",
   "metadata": {},
   "source": [
    "##### Algumas Ferramentas Docstring Úteis\n",
    "---"
   ]
  },
  {
   "attachments": {},
   "cell_type": "markdown",
   "metadata": {},
   "source": [
    "Existem muitas ferramentas docstrings para Python. As ferramentas docstring ajudam a\n",
    "documentar o código Python convertendo docstrings em arquivos de documento formatados\n",
    "em HTML. Essas ferramentas também ajudam a atualizar o documento executando comandos\n",
    "simples em vez de fazer a manutenção manual do documento. Torná-los parte do seu fluxo\n",
    "de desenvolvimento os torna muito mais úteis a longo prazo."
   ]
  },
  {
   "attachments": {},
   "cell_type": "markdown",
   "metadata": {},
   "source": [
    "Existem algumas ferramentas de documentação úteis. Cada ferramenta de\n",
    "documentação tem objetivos diferentes, portanto, qual você escolherá dependerá do seu\n",
    "caso de uso específico."
   ]
  },
  {
   "attachments": {},
   "cell_type": "markdown",
   "metadata": {},
   "source": [
    "- Sphinx:: http://www.sphinx-doc.org/en/stable/\n",
    "\n",
    "Esta é a ferramenta de documentação mais popular para\n",
    "Python. Esta ferramenta irá gerar documentos Python automaticamente. Ele pode gerar arquivos de documentação de vários formatos."
   ]
  },
  {
   "attachments": {},
   "cell_type": "markdown",
   "metadata": {},
   "source": [
    "- Pycco: https://pycco-docs.github.io/pycco/\n",
    "\n",
    "Esta é uma maneira rápida de gerar documentação para seu\n",
    "código Python. A principal característica desta ferramenta é exibir o\n",
    "código e a documentação lado a lado."
   ]
  },
  {
   "attachments": {},
   "cell_type": "markdown",
   "metadata": {},
   "source": [
    "- Read the docs: https://readthedocs.org/\n",
    "\n",
    "Esta é uma ferramenta popular na comunidade de código aberto.\n",
    "Seu principal recurso é criar, criar versões e hospedar seus documentos\n",
    "para você."
   ]
  },
  {
   "attachments": {},
   "cell_type": "markdown",
   "metadata": {},
   "source": [
    "- Epydocs: http://epydoc.sourceforge.net/\n",
    "\n",
    "Essa ferramenta gera documentação de API para módulos\n",
    "Python com base em suas docstrings. "
   ]
  },
  {
   "attachments": {},
   "cell_type": "markdown",
   "metadata": {},
   "source": [
    "O uso dessas ferramentas facilitará a manutenção do seu código a longo prazo e o\n",
    "ajudará a manter um formato consistente para a documentação do seu código."
   ]
  },
  {
   "attachments": {},
   "cell_type": "markdown",
   "metadata": {},
   "source": [
    "<b>Observação</b> Docstrings são um ótimo recurso do Python e podem\n",
    "facilitar muito a documentação do seu código. Começar a usar docstrings\n",
    "em seu código o mais cedo possível garantirá que você não precise investir\n",
    "muito tempo depois, quando seu projeto se tornar muito mais maduro com\n",
    "milhares de linhas de código."
   ]
  },
  {
   "attachments": {},
   "cell_type": "markdown",
   "metadata": {},
   "source": [
    "#### Escreva estruturas de controle pytônicas\n",
    "---"
   ]
  },
  {
   "attachments": {},
   "cell_type": "markdown",
   "metadata": {},
   "source": [
    "As estruturas de controle são partes fundamentais de qualquer linguagem de programação\n",
    "e também vale para o Python. O Python tem várias maneiras de escrever a estrutura de\n",
    "controle, mas existem algumas práticas recomendadas que manterão o código Python mais\n",
    "limpo. Veremos essas práticas recomendadas do Python para estruturas de controle nesta seção."
   ]
  },
  {
   "attachments": {},
   "cell_type": "markdown",
   "metadata": {},
   "source": [
    "##### Usar compreensões de lista\n",
    "---"
   ]
  },
  {
   "attachments": {},
   "cell_type": "markdown",
   "metadata": {},
   "source": [
    "A compreensão da lista é uma maneira de escrever código para resolver um problema\n",
    "existente de maneira semelhante ao python for loop, mas permite fazer isso dentro da lista\n",
    "com ou sem a condição if. Existem várias maneiras em Python de derivar uma lista de\n",
    "outra lista. As principais ferramentas em Python para fazer isso são os métodos filter\n",
    "e map. No entanto, a compreensão da lista é a maneira recomendada de fazer isso, pois\n",
    "torna seu código muito mais legível em comparação com outras opções, como mapa e filtro."
   ]
  },
  {
   "attachments": {},
   "cell_type": "markdown",
   "metadata": {},
   "source": [
    "Neste exemplo, você está tentando encontrar o quadrado dos números com um versão do mapa:"
   ]
  },
  {
   "cell_type": "code",
   "execution_count": null,
   "metadata": {},
   "outputs": [],
   "source": [
    "numeros = [10, 45, 34, 89, 34, 23, 6]\n",
    "numeros_quadrado = map(lambda num: num**2, num)"
   ]
  },
  {
   "cell_type": "code",
   "execution_count": 3,
   "metadata": {},
   "outputs": [
    {
     "data": {
      "text/plain": [
       "[100, 2025, 1156, 7921, 1156, 529, 36]"
      ]
     },
     "execution_count": 3,
     "metadata": {},
     "output_type": "execute_result"
    }
   ],
   "source": [
    "# Aqui está uma versão de compreensão da lista:\n",
    "\n",
    "numeros_quadrado = [num ** 2 for num in numeros]\n",
    "numeros_quadrado"
   ]
  },
  {
   "attachments": {},
   "cell_type": "markdown",
   "metadata": {},
   "source": [
    "Vejamos outro exemplo em que você usa um filtro para todos os valores verdadeiros. "
   ]
  },
  {
   "cell_type": "code",
   "execution_count": null,
   "metadata": {},
   "outputs": [],
   "source": [
    "# Aqui está a versão do filtro:\n",
    "\n",
    "dados = [1, \"A\", 0, False, True]\n",
    "dados_filtrados = filter(None, dados)"
   ]
  },
  {
   "cell_type": "code",
   "execution_count": null,
   "metadata": {},
   "outputs": [],
   "source": [
    "# Aqui está uma versão de compreensão da lista:\n",
    "\n",
    "dados_filtrados = [item for item in filter if item]"
   ]
  },
  {
   "attachments": {},
   "cell_type": "markdown",
   "metadata": {},
   "source": [
    "Como você deve ter notado, a versão de compreensão da lista é muito\n",
    "mais legível em comparação com as versões de filtro e mapa. A documentação oficial\n",
    "do Python também recomenda que você use compreensão de lista em vez de filtro e mapa."
   ]
  },
  {
   "attachments": {},
   "cell_type": "markdown",
   "metadata": {},
   "source": [
    "Se você não tiver uma condição complexa ou cálculo complexo no for, você deve considerar o uso de compreensão de lista. Mas se você estiver fazendo muitas coisas em um loop, é melhor ficar com um loop para facilitar a leitura propósitos."
   ]
  },
  {
   "attachments": {},
   "cell_type": "markdown",
   "metadata": {},
   "source": [
    "Para ilustrar melhor o uso da compreensão de lista em um loop for, vejamos um\n",
    "exemplo em que você precisa identificar uma vogal de uma lista de caracteres."
   ]
  },
  {
   "cell_type": "code",
   "execution_count": null,
   "metadata": {},
   "outputs": [],
   "source": [
    "list_char = [\"a\", \"p\", \"t\", \"i\", \"y\", \"l\"] vogal = [\"a\", \"e\", \"i\", \"o\", \"u\"]\n",
    "only_vowel = [] para item em list_char: se item\n",
    "em vogal:\n",
    "only_vowel.append(item)"
   ]
  },
  {
   "cell_type": "markdown",
   "metadata": {},
   "source": []
  },
  {
   "cell_type": "markdown",
   "metadata": {},
   "source": []
  },
  {
   "cell_type": "markdown",
   "metadata": {},
   "source": []
  },
  {
   "cell_type": "markdown",
   "metadata": {},
   "source": []
  },
  {
   "cell_type": "markdown",
   "metadata": {},
   "source": []
  },
  {
   "cell_type": "markdown",
   "metadata": {},
   "source": []
  },
  {
   "cell_type": "markdown",
   "metadata": {},
   "source": []
  },
  {
   "cell_type": "markdown",
   "metadata": {},
   "source": []
  },
  {
   "cell_type": "markdown",
   "metadata": {},
   "source": []
  },
  {
   "cell_type": "markdown",
   "metadata": {},
   "source": []
  },
  {
   "cell_type": "markdown",
   "metadata": {},
   "source": []
  },
  {
   "cell_type": "markdown",
   "metadata": {},
   "source": []
  },
  {
   "cell_type": "markdown",
   "metadata": {},
   "source": []
  },
  {
   "cell_type": "markdown",
   "metadata": {},
   "source": []
  },
  {
   "cell_type": "markdown",
   "metadata": {},
   "source": []
  },
  {
   "cell_type": "markdown",
   "metadata": {},
   "source": []
  },
  {
   "cell_type": "markdown",
   "metadata": {},
   "source": []
  },
  {
   "cell_type": "markdown",
   "metadata": {},
   "source": []
  },
  {
   "cell_type": "markdown",
   "metadata": {},
   "source": []
  },
  {
   "cell_type": "markdown",
   "metadata": {},
   "source": []
  },
  {
   "cell_type": "markdown",
   "metadata": {},
   "source": []
  },
  {
   "cell_type": "markdown",
   "metadata": {},
   "source": []
  },
  {
   "cell_type": "markdown",
   "metadata": {},
   "source": []
  },
  {
   "cell_type": "markdown",
   "metadata": {},
   "source": []
  },
  {
   "attachments": {},
   "cell_type": "markdown",
   "metadata": {},
   "source": [
    "### End."
   ]
  }
 ],
 "metadata": {
  "kernelspec": {
   "display_name": "Python 3.10.5 64-bit",
   "language": "python",
   "name": "python3"
  },
  "language_info": {
   "codemirror_mode": {
    "name": "ipython",
    "version": 3
   },
   "file_extension": ".py",
   "mimetype": "text/x-python",
   "name": "python",
   "nbconvert_exporter": "python",
   "pygments_lexer": "ipython3",
   "version": "3.10.5"
  },
  "orig_nbformat": 4,
  "vscode": {
   "interpreter": {
    "hash": "74af3d2f25f1e46ebd2903d59225d79e4675ec224d56c01fc30cd168c2010d53"
   }
  }
 },
 "nbformat": 4,
 "nbformat_minor": 2
}
