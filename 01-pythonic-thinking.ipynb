{
 "cells": [
  {
   "attachments": {},
   "cell_type": "markdown",
   "metadata": {},
   "source": [
    "### Pensamento pytônico"
   ]
  },
  {
   "attachments": {},
   "cell_type": "markdown",
   "metadata": {},
   "source": [
    "O que diferencia o Python de outras linguagens é que é uma linguagem\n",
    "simples com muita profundidade. Por ser simples, é muito mais importante\n",
    "escrever o código com cautela, especialmente em um grande projeto, porque\n",
    "é fácil o código se tornar complexo e inchado. Python tem uma filosofia\n",
    "chamada Zen of Python, que enfatiza a simplicidade sobre a complexidade."
   ]
  },
  {
   "attachments": {},
   "cell_type": "markdown",
   "metadata": {},
   "source": [
    "você aprenderá sobre algumas práticas comuns que\n",
    "podem ajudá-lo a tornar seu código Python mais legível e simples. Abordarei\n",
    "algumas práticas bem conhecidas, bem como algumas que podem não\n",
    "ser tão conhecidas. Ao escrever seu próximo projeto ou trabalhar em seu\n",
    "projeto atual, certifique-se de estar bem ciente dessas práticas do Python\n",
    "para poder melhorar seu código."
   ]
  },
  {
   "attachments": {},
   "cell_type": "markdown",
   "metadata": {},
   "source": [
    "---"
   ]
  },
  {
   "attachments": {},
   "cell_type": "markdown",
   "metadata": {},
   "source": [
    "<b>Observação:</b> No mundo Python, seguir a filosofia Zen of\n",
    "Python torna seu código “Pythonic”. Existem muitas práticas\n",
    "recomendadas na documentação oficial do Python para\n",
    "tornar seu código mais limpo e legível. A leitura do guia\n",
    "PEP8 certamente ajudará você a entender por que algumas\n",
    "práticas são recomendadas."
   ]
  },
  {
   "attachments": {},
   "cell_type": "markdown",
   "metadata": {},
   "source": [
    "---"
   ]
  },
  {
   "attachments": {},
   "cell_type": "markdown",
   "metadata": {},
   "source": [
    "#### Escrever código pytônico\n",
    "---"
   ]
  },
  {
   "attachments": {},
   "cell_type": "markdown",
   "metadata": {},
   "source": [
    "Python tem alguma documentação oficial chamada PEP8 que define as melhores\n",
    "práticas para escrever código Pythonic. Este guia de estilo evoluiu ao longo do tempo."
   ]
  },
  {
   "attachments": {},
   "cell_type": "markdown",
   "metadata": {},
   "source": [
    "Você pode conferir em https://www.python.org/dev/peps/pep-0008/."
   ]
  },
  {
   "attachments": {},
   "cell_type": "markdown",
   "metadata": {},
   "source": [
    "#### Nomenclatura\n",
    "---"
   ]
  },
  {
   "attachments": {},
   "cell_type": "markdown",
   "metadata": {},
   "source": [
    "Como desenvolvedor, trabalhei com diferentes linguagens como Java, NodeJS,\n",
    "Perl e Golang. Todas essas linguagens têm convenções de nomenclatura para variáveis,\n",
    "funções, classes e assim por diante. Python também recomenda o uso de convenções de\n",
    "nomenclatura. Discutirei algumas das convenções de nomenclatura nesta seção que você\n",
    "deve seguir ao escrever o código Python."
   ]
  },
  {
   "attachments": {},
   "cell_type": "markdown",
   "metadata": {},
   "source": [
    "##### Variáveis e Funções\n",
    "---"
   ]
  },
  {
   "attachments": {},
   "cell_type": "markdown",
   "metadata": {},
   "source": [
    "Você deve nomear funções e variáveis em letras minúsculas com as palavras separados por sublinhados, pois isso melhorará a legibilidade."
   ]
  },
  {
   "cell_type": "code",
   "execution_count": null,
   "metadata": {},
   "outputs": [],
   "source": [
    "# Nomes de variáveis\n",
    "\n",
    "nomes = \" Python \"                      # nome variável\n",
    "cargo = \" Engenheiro de Software \"  \n",
    "lista_de_países_populados = []          # nome variável com sublinhado"
   ]
  },
  {
   "attachments": {},
   "cell_type": "markdown",
   "metadata": {},
   "source": [
    "Você também deve considerar o uso de nomes de métodos não desconfigurados em seu código e o uso de um sublinhado (_) ou dois sublinhados (__)."
   ]
  },
  {
   "cell_type": "code",
   "execution_count": null,
   "metadata": {},
   "outputs": [],
   "source": [
    "# Nomes não desconfigurados\n",
    "\n",
    "_livros = {}        # nome da variável para definir private\n",
    "__dict = []         # evita confusão de nomes com python in-build lib"
   ]
  },
  {
   "attachments": {},
   "cell_type": "markdown",
   "metadata": {},
   "source": [
    "Você deve usar um sublinhado (_) como prefixo para a variável interna de uma classe, onde você não deseja que uma classe externa acesse a variável. Esta é apenas uma convenção; O Python não torna uma variável com um único prefixo de sublinhado privado."
   ]
  },
  {
   "attachments": {},
   "cell_type": "markdown",
   "metadata": {},
   "source": [
    "Python também tem uma convenção para funções,"
   ]
  },
  {
   "cell_type": "code",
   "execution_count": null,
   "metadata": {},
   "outputs": [],
   "source": [
    "# Nomes de funções normais\n",
    "\n",
    "# nome da função com um único sublinhado \n",
    "def get_dados():\n",
    "    pass\n",
    "\n",
    "def calcular_dados():\n",
    "    ..."
   ]
  },
  {
   "attachments": {},
   "cell_type": "markdown",
   "metadata": {},
   "source": [
    "As mesmas regras se aplicam a métodos privados e métodos onde você deseja\n",
    "para evitar confusão de nomes com funções Python integradas"
   ]
  },
  {
   "cell_type": "code",
   "execution_count": null,
   "metadata": {},
   "outputs": [],
   "source": [
    "# Nomes de Função para Representar Métodos Privados e Nonmangling\n",
    "\n",
    "# Método privado com sublinhado único \n",
    "def _get_dados():\n",
    "    pass\n",
    "\n",
    "# sublinhado duplo para evitar confusão de nomes com outras funções in-build\n",
    "def __path():\n",
    "    pass"
   ]
  },
  {
   "cell_type": "markdown",
   "metadata": {},
   "source": [
    "Além de seguir essas regras de nomenclatura, é importante usar nomes\n",
    "específicos em vez de nomes obscuros para suas funções ou variáveis."
   ]
  },
  {
   "attachments": {},
   "cell_type": "markdown",
   "metadata": {},
   "source": [
    "Vamos considerar uma função que retorna um objeto de usuário quando fornecido com um ID de usuário"
   ]
  },
  {
   "cell_type": "code",
   "execution_count": null,
   "metadata": {},
   "outputs": [],
   "source": [
    "# Nomes de função\n",
    "\n",
    "# Caminho errado\n",
    "def get_info_usuario(id):\n",
    "    \n",
    "    db = get_db_conexao(id)\n",
    "    usuario = executar_consulta_para_usuario(id)\n",
    "    \n",
    "    return usuario\n",
    "\n",
    "# Caminho certo \n",
    "def get_usuario_por(usuario_id):\n",
    "    \n",
    "    db = get_db_conexao()\n",
    "    usuario = executar_consulta_para_usuario(usuario_id)\n",
    "    \n",
    "    return usuario"
   ]
  },
  {
   "attachments": {},
   "cell_type": "markdown",
   "metadata": {},
   "source": [
    "Aqui, a segunda função, get_user_by, garante que você esteja usando o mesmo\n",
    "vocabulário para passar uma variável, o que fornece o contexto correto para a função. A\n",
    "primeira função, get_user_info, é ambígua porque o parâmetro id pode significar qualquer\n",
    "coisa. É um ID de índice de tabela de usuário ou um ID de pagamento de usuário ou\n",
    "qualquer outro ID? Esse tipo de código pode criar confusão para outros desenvolvedores\n",
    "que usam sua API. Para corrigir isso, mudei duas coisas na segunda função; Alterei o\n",
    "nome da função e passei um nome de argumento, o que torna o código muito mais\n",
    "legível. Ao ler o segundo função, você sabe imediatamente o propósito da função e o esperado valor da função."
   ]
  },
  {
   "attachments": {},
   "cell_type": "markdown",
   "metadata": {},
   "source": [
    "Como desenvolvedor, é sua responsabilidade pensar cuidadosamente ao nomear\n",
    "suas variáveis e funções para tornar o código legível para outros desenvolvedores."
   ]
  },
  {
   "attachments": {},
   "cell_type": "markdown",
   "metadata": {},
   "source": [
    "##### Classes\n",
    "---"
   ]
  },
  {
   "attachments": {},
   "cell_type": "markdown",
   "metadata": {},
   "source": [
    "O nome das classes deve estar em camel case como na maioria das outras linguagens. "
   ]
  },
  {
   "cell_type": "code",
   "execution_count": null,
   "metadata": {},
   "outputs": [],
   "source": [
    "# Nomes de classe\n",
    "\n",
    "class InformacaoUsuario:\n",
    "    \n",
    "    def get_usuario(id):\n",
    "        \n",
    "        db = get_db_conexao()\n",
    "        usuario = executar_consulta_para_usuario(id)\n",
    "        \n",
    "        return user"
   ]
  },
  {
   "attachments": {},
   "cell_type": "markdown",
   "metadata": {},
   "source": [
    "##### Constantes\n",
    "---"
   ]
  },
  {
   "attachments": {},
   "cell_type": "markdown",
   "metadata": {},
   "source": [
    "Você deve definir nomes de constantes com letras maiúsculas."
   ]
  },
  {
   "cell_type": "code",
   "execution_count": null,
   "metadata": {},
   "outputs": [],
   "source": [
    "# Nomes constantes\n",
    "\n",
    "TOTAL = 42\n",
    "TEMPO = 7\n",
    "LIMITE_MAX = 10"
   ]
  },
  {
   "attachments": {},
   "cell_type": "markdown",
   "metadata": {},
   "source": [
    "##### Argumentos de função e método\n",
    "---"
   ]
  },
  {
   "attachments": {},
   "cell_type": "markdown",
   "metadata": {},
   "source": [
    "Argumentos de funções e métodos devem seguir as mesmas regras que variáveis\n",
    "e nomes de métodos. Um método de classe tem self como o primeiro argumento de palavrachave\n",
    "em comparação com funções que não passam self como parâmetro de\n",
    "palavra-chave."
   ]
  },
  {
   "cell_type": "code",
   "execution_count": null,
   "metadata": {},
   "outputs": [],
   "source": [
    "# Argumentos de função e método\n",
    "\n",
    "def calcular_imposto(valor, imposto_anual):\n",
    "    pass\n",
    "\n",
    "class Jogador:\n",
    "    \n",
    "    def get_total_pontuacao(self, nome_jogador):\n",
    "        pass"
   ]
  },
  {
   "attachments": {},
   "cell_type": "markdown",
   "metadata": {},
   "source": [
    "#### Expressões e declarações em seu código\n",
    "---"
   ]
  },
  {
   "attachments": {},
   "cell_type": "markdown",
   "metadata": {},
   "source": [
    "Em algum momento, você pode ter tentado escrever código de maneira inteligente para\n",
    "economizar algumas linhas ou impressionar seus colegas. No entanto, há custos para\n",
    "escrever um código inteligente: legibilidade e simplicidade."
   ]
  },
  {
   "cell_type": "code",
   "execution_count": null,
   "metadata": {},
   "outputs": [],
   "source": [
    "# Classificar um dicionário aninhado\n",
    "\n",
    "usuarios = [{\"primeiro_nome\":\"Caique\", \"Idade\":30},\n",
    "            {\"primeiro_nome\":\"Ruan\", \"Idade\":16},\n",
    "            {\"primeiro_nome\":\"Maria\", \"Idade\":12}]\n",
    "\n",
    "usuarios = sorted(usuarios, key=lambda user: user[\"primeiro_nome\"].lower())"
   ]
  },
  {
   "attachments": {},
   "cell_type": "markdown",
   "metadata": {},
   "source": [
    "Qual é o problema com esse código?"
   ]
  },
  {
   "attachments": {},
   "cell_type": "markdown",
   "metadata": {},
   "source": [
    "Bem, você está classificando este dicionário aninhado por first_name usando um lambda em uma linha, o que faz com que pareça uma maneira inteligente de\n",
    "classificar o dicionário em vez de usar um loop."
   ]
  },
  {
   "attachments": {},
   "cell_type": "markdown",
   "metadata": {},
   "source": [
    "No entanto, não é fácil entender esse código à primeira vista, especialmente\n",
    "para novos desenvolvedores, porque os lambdas não são um conceito fácil de\n",
    "entender por causa de sua sintaxe peculiar. Claro, você está salvando linhas aqui\n",
    "usando um lambda porque permite que você classifique o dicionário de maneira inteligente; no entanto, isso não torna esse código correto ou legível. Este código não resolve\n",
    "problemas como chaves ausentes ou se o dicionário está correto ou não."
   ]
  },
  {
   "attachments": {},
   "cell_type": "markdown",
   "metadata": {},
   "source": [
    "Vamos reescrever este código usando uma função e tentar tornar o código\n",
    "mais legível e correto; a função verificará todos os valores inesperados e é muito\n",
    "mais simples de escrever."
   ]
  },
  {
   "cell_type": "code",
   "execution_count": null,
   "metadata": {},
   "outputs": [],
   "source": [
    "# Dicionário classificado por função\n",
    "\n",
    "usuarios = [{\"primeiro_nome\":\"Caique\", \"Idade\":30},\n",
    "            {\"primeiro_nome\":\"Ruan\", \"Idade\":16},\n",
    "            {\"primeiro_nome\":\"Maria\", \"Idade\":12}]\n",
    "\n",
    "def get_nome_usuario(usuarios):\n",
    "    \"\"\" Obter o nome do usuário em letras minúsculas \"\"\"\n",
    "    \n",
    "    return usuarios[\"primeiro_nome\"].lower()\n",
    "\n",
    "def get_ordenar_dicionario(usuarios):\n",
    "    \"\"\" Ordenar o dicionário aninhado \"\"\"\n",
    "    \n",
    "    if not isinstance(usuarios, dict):\n",
    "        raise ValueError(\"Não é um dicionário correto\")\n",
    "    \n",
    "    if not len(usuarios):\n",
    "        raise ValueError(\"Dicionário vazio.\")\n",
    "    \n",
    "    usuarios_por_nome = sorted(usuarios, key=get_nome_usuario)\n",
    "    \n",
    "    return usuarios_por_nome    "
   ]
  },
  {
   "attachments": {},
   "cell_type": "markdown",
   "metadata": {},
   "source": [
    "Como você pode ver, esse código verifica todos os valores inesperados\n",
    "possíveis e é muito mais legível do que o código de uma linha anterior. O código\n",
    "de uma linha economiza linhas, mas injeta muita complexidade em seu código.\n",
    "Isso não significa necessariamente que o código de uma linha seja ruim; o ponto\n",
    "que estou tentando enfatizar aqui é que, se o seu código de uma linha dificultar a\n",
    "leitura do código, evite-o."
   ]
  },
  {
   "attachments": {},
   "cell_type": "markdown",
   "metadata": {},
   "source": [
    "Você precisa tomar essas decisões conscientemente enquanto escreve o código. Às vezes, escrever código de uma linha torna seu código legível e às vezes não."
   ]
  },
  {
   "attachments": {},
   "cell_type": "markdown",
   "metadata": {},
   "source": [
    "Vamos considerar mais um exemplo, onde você está tentando ler um arquivo CSV e\n",
    "contar o número de linhas processadas pelo arquivo CSV. O código na Listagem 1-11\n",
    "mostra por que é importante tornar seu código legível e como a nomenclatura desempenha\n",
    "um grande papel em tornar seu código legível."
   ]
  },
  {
   "attachments": {},
   "cell_type": "markdown",
   "metadata": {},
   "source": [
    "Quebrar o código na função auxiliar ajuda a tornar o código complexo legível e fácil de depurar quando você encontra um erro específico em seu código de produção."
   ]
  },
  {
   "cell_type": "code",
   "execution_count": null,
   "metadata": {},
   "outputs": [],
   "source": [
    "# Lendo um arquivo CSV\n",
    "\n",
    "import csv\n",
    "\n",
    "with open('funcionarios.csv', mode='r') as arquivo_csv:\n",
    "    \n",
    "    csv_leitor = csv.DictReader(arquivo_csv)\n",
    "    contador_linhas = 0\n",
    "    \n",
    "    for linha in csv_leitor:\n",
    "        if contador_linhas == 0:\n",
    "            print(f'Nome das colunas são: {\", \".join(linha)}')\n",
    "            contador_linhas += 1\n",
    "            \n",
    "            print(f'\\t{linha[\"nome\"]} salario: {linha[\"salario\"]}'\n",
    "                  f'e nasceu in {linha[\"mes aniversario\"]}.')\n",
    "        \n",
    "        contador_linhas += 1\n",
    "    \n",
    "    print(f'Processo {contador_linhas} linhas')\n",
    "            "
   ]
  },
  {
   "attachments": {},
   "cell_type": "markdown",
   "metadata": {},
   "source": [
    "Aqui, o código está fazendo várias coisas na instrução with. Para torná-lo mais legível,\n",
    "você pode retirar o código com o salário do processo do arquivo CSV em uma função\n",
    "diferente para torná-lo menos propenso a erros. É difícil depurar esse tipo de código\n",
    "quando muitas coisas estão acontecendo em poucas linhas, então você deve certificar-se\n",
    "de ter objetivos e limites claros ao definir sua função"
   ]
  },
  {
   "cell_type": "code",
   "execution_count": null,
   "metadata": {},
   "outputs": [],
   "source": [
    "# Lendo um arquivo CSV, com código mais legível\n",
    "\n",
    "import csv\n",
    "\n",
    "with open('funcionarios.txt', mode='r') as arquivo_csv:\n",
    "    csv_leitor = csv.DictReader(arquivo_csv)\n",
    "    contador_linhas = 0\n",
    "\n",
    "    processar_salario(csv_leitor)\n",
    "    \n"
   ]
  },
  {
   "cell_type": "markdown",
   "metadata": {},
   "source": []
  },
  {
   "cell_type": "markdown",
   "metadata": {},
   "source": []
  },
  {
   "cell_type": "markdown",
   "metadata": {},
   "source": []
  },
  {
   "cell_type": "markdown",
   "metadata": {},
   "source": []
  },
  {
   "cell_type": "markdown",
   "metadata": {},
   "source": []
  },
  {
   "cell_type": "markdown",
   "metadata": {},
   "source": []
  },
  {
   "cell_type": "markdown",
   "metadata": {},
   "source": []
  },
  {
   "cell_type": "markdown",
   "metadata": {},
   "source": []
  },
  {
   "cell_type": "markdown",
   "metadata": {},
   "source": []
  },
  {
   "cell_type": "markdown",
   "metadata": {},
   "source": []
  },
  {
   "cell_type": "markdown",
   "metadata": {},
   "source": []
  },
  {
   "cell_type": "markdown",
   "metadata": {},
   "source": []
  },
  {
   "cell_type": "markdown",
   "metadata": {},
   "source": []
  },
  {
   "cell_type": "markdown",
   "metadata": {},
   "source": []
  },
  {
   "cell_type": "markdown",
   "metadata": {},
   "source": []
  },
  {
   "cell_type": "markdown",
   "metadata": {},
   "source": []
  },
  {
   "cell_type": "markdown",
   "metadata": {},
   "source": []
  },
  {
   "cell_type": "markdown",
   "metadata": {},
   "source": []
  },
  {
   "cell_type": "markdown",
   "metadata": {},
   "source": []
  },
  {
   "cell_type": "markdown",
   "metadata": {},
   "source": []
  },
  {
   "cell_type": "markdown",
   "metadata": {},
   "source": []
  },
  {
   "cell_type": "markdown",
   "metadata": {},
   "source": []
  },
  {
   "cell_type": "markdown",
   "metadata": {},
   "source": []
  },
  {
   "cell_type": "markdown",
   "metadata": {},
   "source": []
  },
  {
   "cell_type": "markdown",
   "metadata": {},
   "source": []
  },
  {
   "cell_type": "markdown",
   "metadata": {},
   "source": []
  },
  {
   "cell_type": "markdown",
   "metadata": {},
   "source": []
  },
  {
   "attachments": {},
   "cell_type": "markdown",
   "metadata": {},
   "source": [
    "### End."
   ]
  }
 ],
 "metadata": {
  "kernelspec": {
   "display_name": "Python 3.10.5 64-bit",
   "language": "python",
   "name": "python3"
  },
  "language_info": {
   "codemirror_mode": {
    "name": "ipython",
    "version": 3
   },
   "file_extension": ".py",
   "mimetype": "text/x-python",
   "name": "python",
   "nbconvert_exporter": "python",
   "pygments_lexer": "ipython3",
   "version": "3.10.5"
  },
  "orig_nbformat": 4,
  "vscode": {
   "interpreter": {
    "hash": "74af3d2f25f1e46ebd2903d59225d79e4675ec224d56c01fc30cd168c2010d53"
   }
  }
 },
 "nbformat": 4,
 "nbformat_minor": 2
}
